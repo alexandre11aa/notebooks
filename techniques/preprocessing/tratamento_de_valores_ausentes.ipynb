{
 "cells": [
  {
   "cell_type": "markdown",
   "metadata": {
    "vscode": {
     "languageId": "plaintext"
    }
   },
   "source": [
    "# Tratamento de Valores Ausentes com Imputação\n",
    "\n",
    "São vários os métodos de imputação usados para substituir valores ausentes em conjuntos de dados por valores estimados. Eles ajudam a melhorar a qualidade dos dados, permitindo que eles sejam usados em análises estatísticas ou no treinamento de modelos de aprendizado de máquina, que muitas vezes não lidam bem com valores ausentes.\n",
    "\n",
    "Por que usar imputação?\n",
    "\n",
    "* Evita a perda de informações que ocorre ao excluir linhas ou colunas com valores ausentes.\n",
    "* Mantém a representatividade do conjunto de dados.\n",
    "* Melhora a performance e a precisão de modelos, que podem ser prejudicados pela ausência de dados."
   ]
  },
  {
   "cell_type": "markdown",
   "metadata": {
    "vscode": {
     "languageId": "plaintext"
    }
   },
   "source": [
    "## Configurando dados"
   ]
  },
  {
   "cell_type": "code",
   "execution_count": 1,
   "metadata": {},
   "outputs": [
    {
     "name": "stdout",
     "output_type": "stream",
     "text": [
      "\n",
      "Nulos por coluna:\n",
      "\n",
      "preg    80\n",
      "plas    76\n",
      "pres    71\n",
      "skin    70\n",
      "insu    76\n",
      "mass    94\n",
      "pedi    70\n",
      "age     71\n",
      "dtype: int64\n"
     ]
    }
   ],
   "source": [
    "# Importando biblioteca pandas\n",
    "import pandas as pd\n",
    "\n",
    "# Importando biblioteca numpy\n",
    "import numpy as np\n",
    "\n",
    "# Importando a função minmax_scale da biblioteca scikit-learn\n",
    "from sklearn.preprocessing import minmax_scale\n",
    "\n",
    "# Função para medir acurácia\n",
    "def err(df, df_):\n",
    "    # Calculando o MAE\n",
    "    mae = (df - df_).abs().mean().mean()\n",
    "    # Calculando MSE\n",
    "    mse = ((df - df_) ** 2).mean().mean()\n",
    "    # Calculando Correlação\n",
    "    correlation = df.corrwith(df_).mean()\n",
    "    # Exibindo resultados\n",
    "    print(f'\\nAcurácia para os dados usados:\\n\\nMAE: {mae:.4f}\\nMSE: {mse:.4f}\\nCor: {correlation:.4f}')\n",
    "\n",
    "# Lendo arquivo CSV e transformando em um DataFrame\n",
    "df = pd.read_csv('datas/diabetes.csv')\n",
    "\n",
    "# Varrendo colunas do DataFrame\n",
    "for column in df:\n",
    "\n",
    "    # Dimensiona valores para mesma escala (entre 0 e 1) para fins de visualização de gráfico\n",
    "    df[column] = minmax_scale(df[column])\n",
    "\n",
    "# Excluindo valores nulos existentes\n",
    "df = df.dropna()\n",
    "\n",
    "# Declarando novo dataframe que terão dados nulos forjados\n",
    "df_nan = df.copy()\n",
    "\n",
    "# Selecionando índices aleatórios para substituir por NaN\n",
    "missing_indices = np.random.choice(\n",
    "    df_nan.size,  # Número total de elementos no DataFrame\n",
    "    int(df_nan.size * 0.1),  # Número de elementos que serão substituídos por NaN (10%)\n",
    "    replace=False\n",
    ")\n",
    "\n",
    "# Substituindo os valores nos índices escolhidos por NaN\n",
    "df_nan_1d = df_nan.values.flatten()  # Transforma o DataFrame em um array 1D\n",
    "df_nan_1d[missing_indices] = np.nan  # Insere NaN nos índices selecionados\n",
    "df_nan[:] = df_nan_1d.reshape(df_nan.shape)  # Reshape para o formato original\n",
    "\n",
    "# Exibindo contagem de valores nulos por coluna\n",
    "print(\"\\nNulos por coluna:\\n\")\n",
    "print(df_nan.isnull().sum())"
   ]
  },
  {
   "cell_type": "markdown",
   "metadata": {},
   "source": [
    "## Substituição por constante:\n",
    "\n",
    "* Preenche valores ausentes com um valor fixo, como 0 ou \"Desconhecido\" (em variáveis categóricas).\n",
    "\n",
    "* Útil quando um valor específico tem um significado claro."
   ]
  },
  {
   "cell_type": "code",
   "execution_count": 2,
   "metadata": {},
   "outputs": [
    {
     "name": "stdout",
     "output_type": "stream",
     "text": [
      "\n",
      "Acurácia para os dados usados:\n",
      "\n",
      "MAE: 0.0322\n",
      "MSE: 0.0157\n",
      "Cor: 0.7975\n"
     ]
    }
   ],
   "source": [
    "# Declarando novo dataframe que terão dados nulos transformados em constante\n",
    "df_cons = df_nan.copy()\n",
    "\n",
    "# Substituindo os valores NaN por 0\n",
    "df_cons = df_cons.fillna(0)\n",
    "\n",
    "err(df, df_cons)"
   ]
  },
  {
   "cell_type": "markdown",
   "metadata": {},
   "source": [
    "## Substituição pela média/mediana/moda:\n",
    "\n",
    "* Para variáveis numéricas, usa:\n",
    "    * Média: mean\n",
    "    * Mediana: median\n",
    "\n",
    "* Para variáveis categóricas, usa:\n",
    "    * Moda (valor mais frequente).\n",
    "\n",
    "* Simples de implementar, mas pode distorcer a variabilidade dos dados."
   ]
  },
  {
   "cell_type": "code",
   "execution_count": 3,
   "metadata": {},
   "outputs": [
    {
     "name": "stdout",
     "output_type": "stream",
     "text": [
      "\n",
      "Acurácia para os dados usados:\n",
      "\n",
      "MAE: 0.0116\n",
      "MSE: 0.0022\n",
      "Cor: 0.9561\n"
     ]
    }
   ],
   "source": [
    "from sklearn.impute import SimpleImputer\n",
    "\n",
    "# Declarando novo dataframe que terão dados nulos transformados em media\n",
    "df_mean = df_nan.copy()\n",
    "\n",
    "for column in df_mean.columns:\n",
    "\n",
    "    # Definindo estratégia de imputação\n",
    "    imputer = SimpleImputer(strategy='mean')  # Estratégia: 'mean', 'median', 'most_frequent'\n",
    "\n",
    "    # Aplicando imputação nos dados faltantes\n",
    "    df_mean[column] = imputer.fit_transform(df_mean[[column]])\n",
    "\n",
    "err(df, df_mean)"
   ]
  },
  {
   "cell_type": "markdown",
   "metadata": {},
   "source": [
    "## Substituição usando o K-Nearest Neighbors (KNN):\n",
    "\n",
    "* Substitui valores ausentes com base na média/mediana/moda de k-vizinhos mais próximos.\n",
    "\n",
    "* Captura melhor as relações entre variáveis."
   ]
  },
  {
   "cell_type": "code",
   "execution_count": 4,
   "metadata": {},
   "outputs": [
    {
     "name": "stdout",
     "output_type": "stream",
     "text": [
      "\n",
      "Acurácia para os dados usados:\n",
      "\n",
      "MAE: 0.0099\n",
      "MSE: 0.0019\n",
      "Cor: 0.9624\n"
     ]
    }
   ],
   "source": [
    "from sklearn.impute import KNNImputer\n",
    "\n",
    "# Declarando novo dataframe que terá os dados nulos transformados\n",
    "df_knn = df_nan.copy()\n",
    "\n",
    "# Definindo imputação para k vizinhos (5)\n",
    "imputer = KNNImputer(n_neighbors=5)\n",
    "\n",
    "# Aplicando imputação no DataFrame inteiro, pois o imputador espera uma matriz bidimensional\n",
    "df_knn.iloc[:, :] = imputer.fit_transform(df_knn)\n",
    "\n",
    "err(df, df_knn)"
   ]
  },
  {
   "cell_type": "markdown",
   "metadata": {},
   "source": [
    "## Outros métodos de substituição\n",
    "\n",
    "* Preenchimento pelo último ou próximo valor conhecido (forward/backward fill):\n",
    "\n",
    "    * Preenche com o último valor não ausente encontrado (ou o próximo, no caso do backward fill).\n",
    "    * Comum em séries temporais.\n",
    "\n",
    "* Regressão:\n",
    "\n",
    "    * Usa regressão para prever valores ausentes com base em outras variáveis.\n",
    "    * Exemplo: Prever valores ausentes de altura com base em idade e peso.\n",
    "\n",
    "* Interpolação:\n",
    "\n",
    "    * Estima valores ausentes com base em técnicas matemáticas, como Linear, Polinomial, Splines.\n",
    "\n",
    "* Modelos de Aprendizado de Máquina:\n",
    "\n",
    "    * Métodos como árvores de decisão ou redes neurais podem imputar valores com maior precisão ao capturar relações complexas nos dados.\n",
    "\n",
    "* Múltipla Imputação:\n",
    "\n",
    "    * Gera várias estimativas para os valores ausentes e combina os resultados para refletir a incerteza da imputação.\n",
    "\n",
    "Cada método possui suas próprias especificidades e custo computacional. A efetividade de uso de cada um se dará a partir do tipo de dado que está sendo tratado, não havendo um que se destaque sobre outro para toda e qualquer situação."
   ]
  }
 ],
 "metadata": {
  "kernelspec": {
   "display_name": "env",
   "language": "python",
   "name": "python3"
  },
  "language_info": {
   "codemirror_mode": {
    "name": "ipython",
    "version": 3
   },
   "file_extension": ".py",
   "mimetype": "text/x-python",
   "name": "python",
   "nbconvert_exporter": "python",
   "pygments_lexer": "ipython3",
   "version": "3.11.2"
  }
 },
 "nbformat": 4,
 "nbformat_minor": 2
}
