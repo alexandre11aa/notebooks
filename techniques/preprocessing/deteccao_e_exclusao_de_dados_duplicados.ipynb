{
 "cells": [
  {
   "cell_type": "markdown",
   "metadata": {},
   "source": [
    "## Configurando dados"
   ]
  },
  {
   "cell_type": "code",
   "execution_count": null,
   "metadata": {},
   "outputs": [
    {
     "ename": "",
     "evalue": "",
     "output_type": "error",
     "traceback": [
      "\u001b[1;31mRunning cells with 'Python 3.11.2' requires the ipykernel package.\n",
      "\u001b[1;31mRun the following command to install 'ipykernel' into the Python environment. \n",
      "\u001b[1;31mCommand: '/bin/python3 -m pip install ipykernel -U --user --force-reinstall'"
     ]
    }
   ],
   "source": [
    "# Importando biblioteca pandas\n",
    "import pandas as pd\n",
    "\n",
    "# Importando a função minmax_scale da biblioteca scikit-learn\n",
    "from sklearn.preprocessing import minmax_scale\n",
    "\n",
    "# Lendo arquivo CSV e transformando em um DataFrame\n",
    "df = pd.read_csv('datas/diabetes.csv')\n",
    "\n",
    "# Varrendo colunas do DataFrame\n",
    "for column in df:\n",
    "\n",
    "    # Substituindo valores NAN por zero para fins de demonstração\n",
    "    df[column] = df[column].fillna(0)\n",
    "\n",
    "    # Dimensiona valores para mesma escala (entre 0 e 1) para fins de visualização de gráfico\n",
    "    df[column] = minmax_scale(df[column])\n",
    "\n",
    "# Exibindo 5 primeiras linhas do DataFrame\n",
    "df.head(5)"
   ]
  }
 ],
 "metadata": {
  "kernelspec": {
   "display_name": "Python 3",
   "language": "python",
   "name": "python3"
  },
  "language_info": {
   "name": "python",
   "version": "3.11.2"
  }
 },
 "nbformat": 4,
 "nbformat_minor": 2
}
