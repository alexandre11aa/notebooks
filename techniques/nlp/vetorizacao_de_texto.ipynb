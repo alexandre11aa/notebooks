{
 "cells": [
  {
   "cell_type": "markdown",
   "metadata": {},
   "source": [
    "# Vetorização\n",
    "\n",
    "A vetorização para processamento de linguagem natural (NLP) é o processo de converter texto em representações numéricas que podem ser entendidas pelos algoritmos de aprendizado de máquina. A vetorização envolve atribuir a cada palavra ou token do texto um vetor numérico, onde cada dimensão do vetor representa alguma característica da palavra. Esses vetores são então usados como entrada para os modelos de ML, permitindo que eles aprendam padrões nos dados textuais. As técnicas comuns de vetorização incluem a criação de um vocabulário único de palavras, a codificação one-hot encoding e a representação TF-IDF."
   ]
  },
  {
   "cell_type": "markdown",
   "metadata": {},
   "source": [
    "#### Configurando Dados"
   ]
  },
  {
   "cell_type": "code",
   "execution_count": 1,
   "metadata": {},
   "outputs": [
    {
     "data": {
      "text/html": [
       "<div>\n",
       "<style scoped>\n",
       "    .dataframe tbody tr th:only-of-type {\n",
       "        vertical-align: middle;\n",
       "    }\n",
       "\n",
       "    .dataframe tbody tr th {\n",
       "        vertical-align: top;\n",
       "    }\n",
       "\n",
       "    .dataframe thead th {\n",
       "        text-align: right;\n",
       "    }\n",
       "</style>\n",
       "<table border=\"1\" class=\"dataframe\">\n",
       "  <thead>\n",
       "    <tr style=\"text-align: right;\">\n",
       "      <th></th>\n",
       "      <th>titulo</th>\n",
       "      <th>curso</th>\n",
       "    </tr>\n",
       "  </thead>\n",
       "  <tbody>\n",
       "    <tr>\n",
       "      <th>0</th>\n",
       "      <td>Avaliação microscópica dos fragmentos ósseos o...</td>\n",
       "      <td>ZZZ MEST</td>\n",
       "    </tr>\n",
       "    <tr>\n",
       "      <th>1</th>\n",
       "      <td>Efeito da Terapia Fotodinâmica sobre Bactérias...</td>\n",
       "      <td>ZZZ MEST</td>\n",
       "    </tr>\n",
       "    <tr>\n",
       "      <th>2</th>\n",
       "      <td>Avaliação longitudinal do impacto da Saúde Buc...</td>\n",
       "      <td>ZZZ MEST</td>\n",
       "    </tr>\n",
       "    <tr>\n",
       "      <th>3</th>\n",
       "      <td>SOLANUM PANICULATUM LINN E MIMOSA TENUIFLORA (...</td>\n",
       "      <td>ZZZ MEST</td>\n",
       "    </tr>\n",
       "    <tr>\n",
       "      <th>4</th>\n",
       "      <td>Condições de saúde bucal e capacidade funciona...</td>\n",
       "      <td>ZZZ MEST</td>\n",
       "    </tr>\n",
       "  </tbody>\n",
       "</table>\n",
       "</div>"
      ],
      "text/plain": [
       "                                              titulo     curso \n",
       "0  Avaliação microscópica dos fragmentos ósseos o...  ZZZ MEST \n",
       "1  Efeito da Terapia Fotodinâmica sobre Bactérias...  ZZZ MEST \n",
       "2  Avaliação longitudinal do impacto da Saúde Buc...  ZZZ MEST \n",
       "3  SOLANUM PANICULATUM LINN E MIMOSA TENUIFLORA (...  ZZZ MEST \n",
       "4  Condições de saúde bucal e capacidade funciona...  ZZZ MEST "
      ]
     },
     "execution_count": 1,
     "metadata": {},
     "output_type": "execute_result"
    }
   ],
   "source": [
    "import pandas as pd\n",
    "\n",
    "df = pd.read_csv('datas/tccs.csv')\n",
    "\n",
    "df = df.drop('Unnamed: 0', axis=1)\n",
    "\n",
    "df.head()"
   ]
  },
  {
   "cell_type": "markdown",
   "metadata": {},
   "source": [
    "#### Aplicação de Vetorização"
   ]
  },
  {
   "cell_type": "code",
   "execution_count": 2,
   "metadata": {},
   "outputs": [
    {
     "name": "stderr",
     "output_type": "stream",
     "text": [
      "[nltk_data] Downloading package stopwords to\n",
      "[nltk_data]     C:\\Users\\alexa\\AppData\\Roaming\\nltk_data...\n",
      "[nltk_data]   Package stopwords is already up-to-date!\n"
     ]
    },
    {
     "data": {
      "text/plain": [
       "True"
      ]
     },
     "execution_count": 2,
     "metadata": {},
     "output_type": "execute_result"
    }
   ],
   "source": [
    "import nltk\n",
    "\n",
    "# Baixando stopwords\n",
    "nltk.download('stopwords')"
   ]
  },
  {
   "cell_type": "code",
   "execution_count": 3,
   "metadata": {},
   "outputs": [
    {
     "data": {
      "text/plain": [
       "array([[0., 0., 0., ..., 0., 0., 0.],\n",
       "       [0., 0., 0., ..., 0., 0., 0.],\n",
       "       [0., 0., 0., ..., 0., 0., 0.],\n",
       "       ...,\n",
       "       [0., 0., 0., ..., 0., 0., 0.],\n",
       "       [0., 0., 0., ..., 0., 0., 0.],\n",
       "       [0., 0., 0., ..., 0., 0., 0.]])"
      ]
     },
     "execution_count": 3,
     "metadata": {},
     "output_type": "execute_result"
    }
   ],
   "source": [
    "from nltk.corpus import stopwords\n",
    "from sklearn.feature_extraction.text import TfidfVectorizer\n",
    "\n",
    "# Define as stopwords específicas do idioma português.\n",
    "stopwords_nltk = stopwords.words('portuguese')\n",
    "\n",
    "# Cria um vetorizador TF-IDF com configurações distintas.\n",
    "vectorizer = TfidfVectorizer(stop_words=stopwords_nltk, # Remove as stopwords definidas anteriormente.\n",
    "                             max_features=2000, # Limita o número máximo de features a 2000.\n",
    "                             ngram_range=(1, 2), # Considera unigramas e bigramas.\n",
    "                             min_df=5, # Ignora termos que aparecem em menos de 5 documentos.\n",
    "                             max_df=0.8, # Ignora termos que aparecem em mais de 80% dos documentos.\n",
    "                             lowercase=True # Converte o texto para minúsculas.\n",
    "                             )\n",
    "\n",
    "# Vetoriza as frases das linhas da coluna titulo\n",
    "tfidf_matrix = vectorizer.fit_transform(df['titulo'].astype(str))\n",
    "\n",
    "# Observando vetorização\n",
    "tfidf_matrix.toarray()"
   ]
  },
  {
   "cell_type": "markdown",
   "metadata": {},
   "source": [
    "#### N-grams\n",
    "\n",
    "Uma forma de demonstrar a eficácia da vetorização textual é na obtenção dos n-grams mais frequentes do conjunto de dados de texto vetorizado.\n",
    "\n",
    "```shell\n",
    "Args:\n",
    "    X_train (np.ndarray): Os dados de texto vetorizados.\n",
    "    vectorizer (TfidfVectorizer): O vetorizador usado para transformar os dados de texto.\n",
    "    top_n (int, opcional): O número de top n-grams a serem retornados. O padrão é 10.\n",
    "\n",
    "Returns:\n",
    "    np.ndarray: Um array dos n-grams mais frequentes.\n",
    "```"
   ]
  },
  {
   "cell_type": "code",
   "execution_count": 4,
   "metadata": {},
   "outputs": [
    {
     "name": "stdout",
     "output_type": "stream",
     "text": [
      "Aqui estão as 10 palavras mais usadas nos TCC's: análise, rn, estudo, saúde, sobre, natal, avaliação, educação, ensino, rio.\n"
     ]
    }
   ],
   "source": [
    "import numpy as np\n",
    "\n",
    "def top_ngrams(X_train: np.ndarray, vectorizer: TfidfVectorizer, top_n: int = 10) -> np.ndarray:\n",
    "\n",
    "    # Soma todas as colunas para obter a frequência total de cada n-grama\n",
    "    frequencias_total_ngram = np.sum(X_train, axis=0)\n",
    "\n",
    "    # Ordena os n-grams por sua frequência total\n",
    "    indices_ngrams_ordenados = np.argsort(frequencias_total_ngram)[::-1]\n",
    "\n",
    "    # Obtém os índices dos top n-grams mais frequentes\n",
    "    indices_top_ngrams = indices_ngrams_ordenados[:top_n]\n",
    "\n",
    "    # Obtém os nomes dos n-grams correspondentes aos índices mais frequentes\n",
    "    nomes_ngrams = np.array(vectorizer.get_feature_names_out())\n",
    "\n",
    "    return nomes_ngrams[indices_top_ngrams]\n",
    "\n",
    "# Usa a função para obter os top 30 n-grams dos dados de treinamento\n",
    "top_ngrams = top_ngrams(tfidf_matrix.toarray(), vectorizer, top_n=10)\n",
    "\n",
    "# Mostrando resultado\n",
    "print(f\"Aqui estão as 10 palavras mais usadas nos TCC's: {', '.join(top_ngrams)}.\")"
   ]
  }
 ],
 "metadata": {
  "kernelspec": {
   "display_name": "Códigos",
   "language": "python",
   "name": "python3"
  },
  "language_info": {
   "codemirror_mode": {
    "name": "ipython",
    "version": 3
   },
   "file_extension": ".py",
   "mimetype": "text/x-python",
   "name": "python",
   "nbconvert_exporter": "python",
   "pygments_lexer": "ipython3",
   "version": "3.12.3"
  }
 },
 "nbformat": 4,
 "nbformat_minor": 2
}
