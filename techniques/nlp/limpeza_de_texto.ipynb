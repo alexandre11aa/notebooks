{
 "cells": [
  {
   "cell_type": "markdown",
   "metadata": {},
   "source": [
    "# Limpeza de texto\n",
    "\n",
    "A limpeza de texto, também chamado de pré-processamento de texto é uma etapa essencial no processamento de linguagem natural (NLP) que visa preparar e limpar os dados textuais para análise por algoritmos de aprendizado de máquina. Envolve uma série de etapas para transformar o texto bruto em um formato mais adequado para análise, incluindo:"
   ]
  },
  {
   "cell_type": "markdown",
   "metadata": {},
   "source": [
    "#### Configurando Dados"
   ]
  },
  {
   "cell_type": "code",
   "execution_count": 1,
   "metadata": {},
   "outputs": [
    {
     "data": {
      "text/html": [
       "<div>\n",
       "<style scoped>\n",
       "    .dataframe tbody tr th:only-of-type {\n",
       "        vertical-align: middle;\n",
       "    }\n",
       "\n",
       "    .dataframe tbody tr th {\n",
       "        vertical-align: top;\n",
       "    }\n",
       "\n",
       "    .dataframe thead th {\n",
       "        text-align: right;\n",
       "    }\n",
       "</style>\n",
       "<table border=\"1\" class=\"dataframe\">\n",
       "  <thead>\n",
       "    <tr style=\"text-align: right;\">\n",
       "      <th></th>\n",
       "      <th>titulo</th>\n",
       "      <th>curso</th>\n",
       "    </tr>\n",
       "  </thead>\n",
       "  <tbody>\n",
       "    <tr>\n",
       "      <th>0</th>\n",
       "      <td>Avaliação microscópica dos fragmentos ósseos o...</td>\n",
       "      <td>ZZZ MEST</td>\n",
       "    </tr>\n",
       "    <tr>\n",
       "      <th>1</th>\n",
       "      <td>Efeito da Terapia Fotodinâmica sobre Bactérias...</td>\n",
       "      <td>ZZZ MEST</td>\n",
       "    </tr>\n",
       "    <tr>\n",
       "      <th>2</th>\n",
       "      <td>Avaliação longitudinal do impacto da Saúde Buc...</td>\n",
       "      <td>ZZZ MEST</td>\n",
       "    </tr>\n",
       "    <tr>\n",
       "      <th>3</th>\n",
       "      <td>SOLANUM PANICULATUM LINN E MIMOSA TENUIFLORA (...</td>\n",
       "      <td>ZZZ MEST</td>\n",
       "    </tr>\n",
       "    <tr>\n",
       "      <th>4</th>\n",
       "      <td>Condições de saúde bucal e capacidade funciona...</td>\n",
       "      <td>ZZZ MEST</td>\n",
       "    </tr>\n",
       "  </tbody>\n",
       "</table>\n",
       "</div>"
      ],
      "text/plain": [
       "                                              titulo     curso \n",
       "0  Avaliação microscópica dos fragmentos ósseos o...  ZZZ MEST \n",
       "1  Efeito da Terapia Fotodinâmica sobre Bactérias...  ZZZ MEST \n",
       "2  Avaliação longitudinal do impacto da Saúde Buc...  ZZZ MEST \n",
       "3  SOLANUM PANICULATUM LINN E MIMOSA TENUIFLORA (...  ZZZ MEST \n",
       "4  Condições de saúde bucal e capacidade funciona...  ZZZ MEST "
      ]
     },
     "execution_count": 1,
     "metadata": {},
     "output_type": "execute_result"
    }
   ],
   "source": [
    "import pandas as pd\n",
    "\n",
    "df = pd.read_csv('datas/tccs.csv')\n",
    "\n",
    "df = df.drop('Unnamed: 0', axis=1)\n",
    "\n",
    "df.head()"
   ]
  },
  {
   "cell_type": "markdown",
   "metadata": {},
   "source": [
    "#### Técnicas de limpeza textual"
   ]
  },
  {
   "cell_type": "markdown",
   "metadata": {},
   "source": [
    "**Transformação de caracteres para tipo ASCII**\n",
    "\n",
    "```shell\n",
    "    Exemplo: \n",
    "    \n",
    "        Entrada: \"Olá, mundo!\"\n",
    "\n",
    "        Saída: \"Ola, mundo!\"\n",
    "```"
   ]
  },
  {
   "cell_type": "code",
   "execution_count": 2,
   "metadata": {},
   "outputs": [
    {
     "name": "stdout",
     "output_type": "stream",
     "text": [
      "\n",
      "Entrada: Avaliação microscópica dos fragmentos ósseos obtidos por diferentes métodos de osteotomia e de irrigação em aloenxertos irradiados e congelados de coelhos\n",
      "\n",
      "Saída:\t Avaliacao microscopica dos fragmentos osseos obtidos por diferentes metodos de osteotomia e de irrigacao em aloenxertos irradiados e congelados de coelhos\n"
     ]
    }
   ],
   "source": [
    "import unicodedata\n",
    "\n",
    "def accented_characters(text):\n",
    "\n",
    "    normalized_text = unicodedata.normalize('NFKD', text)\n",
    "\n",
    "    ascii_text = normalized_text.encode('ASCII', 'ignore')\n",
    "\n",
    "    return ascii_text.decode()\n",
    "\n",
    "# Testando função!\n",
    "print(f'\\nEntrada: {df[\"titulo\"].iloc[0]}\\n\\nSaída:\\t {accented_characters(df[\"titulo\"].iloc[0])}')"
   ]
  },
  {
   "cell_type": "markdown",
   "metadata": {},
   "source": [
    "**Remoção de números e pontuações**\n",
    "\n",
    "```shell\n",
    "    Exemplo: \n",
    "    \n",
    "        Entrada: \"Hello, 123 world!\"\n",
    "\n",
    "        Saída: \"Hello world\"\n",
    "```"
   ]
  },
  {
   "cell_type": "code",
   "execution_count": 3,
   "metadata": {},
   "outputs": [
    {
     "name": "stdout",
     "output_type": "stream",
     "text": [
      "\n",
      "Entrada: Avaliação microscópica dos fragmentos ósseos obtidos por diferentes métodos de osteotomia e de irrigação em aloenxertos irradiados e congelados de coelhos\n",
      "\n",
      "Saída:\t Avalia  o microsc pica dos fragmentos  sseos obtidos por diferentes m todos de osteotomia e de irriga  o em aloenxertos irradiados e congelados de coelhos\n"
     ]
    }
   ],
   "source": [
    "import re\n",
    "\n",
    "def numbers_and_punctuation(text):\n",
    "\n",
    "    text = re.sub(r'[^a-zA-Z ]', ' ', text)\n",
    "\n",
    "    return text\n",
    "\n",
    "# Testando função!\n",
    "print(f'\\nEntrada: {df[\"titulo\"].iloc[0]}\\n\\nSaída:\\t {numbers_and_punctuation(df[\"titulo\"].iloc[0])}')"
   ]
  },
  {
   "cell_type": "markdown",
   "metadata": {},
   "source": [
    "**Remoção de espaços excessivos do texto**\n",
    "\n",
    "```shell\n",
    "    Exemplo: \n",
    "    \n",
    "        Entrada: \"Hello,    world!\"\n",
    "\n",
    "        Saída: \"Hello, world!\"\n",
    "```"
   ]
  },
  {
   "cell_type": "code",
   "execution_count": 4,
   "metadata": {},
   "outputs": [
    {
     "name": "stdout",
     "output_type": "stream",
     "text": [
      "\n",
      "Entrada: Avaliação microscópica dos fragmentos ósseos obtidos por diferentes métodos de osteotomia e de irrigação em aloenxertos irradiados e congelados de coelhos\n",
      "\n",
      "Saída:\t Avaliação microscópica dos fragmentos ósseos obtidos por diferentes métodos de osteotomia e de irrigação em aloenxertos irradiados e congelados de coelhos\n"
     ]
    }
   ],
   "source": [
    "def excessive_spaces(text):\n",
    "\n",
    "    text = re.sub(r'\\s+', ' ', text)\n",
    "\n",
    "    return text\n",
    "\n",
    "# Testando função!\n",
    "print(f'\\nEntrada: {df[\"titulo\"].iloc[0]}\\n\\nSaída:\\t {excessive_spaces(df[\"titulo\"].iloc[0])}')"
   ]
  },
  {
   "cell_type": "markdown",
   "metadata": {},
   "source": [
    "**Remoção de palavras de n caracteres**\n",
    "\n",
    "```shell\n",
    "    Exemplo (n = 3): \n",
    "\n",
    "        Entrada: \"Hi, world!\"\n",
    "\n",
    "        Saída: \"world!\"\n",
    "```"
   ]
  },
  {
   "cell_type": "code",
   "execution_count": 5,
   "metadata": {},
   "outputs": [
    {
     "name": "stdout",
     "output_type": "stream",
     "text": [
      "\n",
      "Entrada: Avaliação microscópica dos fragmentos ósseos obtidos por diferentes métodos de osteotomia e de irrigação em aloenxertos irradiados e congelados de coelhos\n",
      "\n",
      "Saída:\t Avaliação microscópica dos fragmentos ósseos obtidos por diferentes métodos osteotomia irrigação aloenxertos irradiados congelados coelhos\n"
     ]
    }
   ],
   "source": [
    "def n_words(text, n):\n",
    "\n",
    "    text = ' '.join([word for word in text.split() if len(word) > n])\n",
    "\n",
    "    return text\n",
    "\n",
    "# Testando função!\n",
    "print(f'\\nEntrada: {df[\"titulo\"].iloc[0]}\\n\\nSaída:\\t {n_words(df[\"titulo\"].iloc[0], 2)}')"
   ]
  },
  {
   "cell_type": "markdown",
   "metadata": {},
   "source": [
    "##### Função geral de limpeza textual"
   ]
  },
  {
   "cell_type": "code",
   "execution_count": 6,
   "metadata": {},
   "outputs": [
    {
     "name": "stdout",
     "output_type": "stream",
     "text": [
      "Entrada:\n",
      "0        Avaliação microscópica dos fragmentos ósseos o...\n",
      "1        Efeito da Terapia Fotodinâmica sobre Bactérias...\n",
      "2        Avaliação longitudinal do impacto da Saúde Buc...\n",
      "3        SOLANUM PANICULATUM LINN E MIMOSA TENUIFLORA (...\n",
      "4        Condições de saúde bucal e capacidade funciona...\n",
      "                               ...                        \n",
      "75479    INOVAÇÃO DOS MINISTÉRIOS PÚBLICOS ESTADUAIS BR...\n",
      "75480    PLANO DE NEGÓCIOS PARA ABERTURA DE FILIAL EM S...\n",
      "75481    EMPODERAMENTO DA MULHER LÍDER:DESAFIOS EMERGEN...\n",
      "75482    ANÁLISE DOS DESAFIOS NA EXECUÇÃO DO PLANEJAMEN...\n",
      "75483    Inovação gerencial e práticas de gestão de pes...\n",
      "Name: titulo, Length: 75484, dtype: object\n",
      "\n",
      "Saída:\n",
      "0        Avaliacao microscopica fragmentos osseos obtid...\n",
      "1        Efeito Terapia Fotodinamica sobre Bacterias Or...\n",
      "2        Avaliacao longitudinal impacto Saude Bucal Est...\n",
      "3        SOLANUM PANICULATUM LINN MIMOSA TENUIFLORA WIL...\n",
      "4        Condicoes saude bucal capacidade funcional idosos\n",
      "                               ...                        \n",
      "75479    INOVACAO MINISTERIOS PUBLICOS ESTADUAIS BRASIL...\n",
      "75480    PLANO NEGOCIOS PARA ABERTURA FILIAL MIGUEL GOS...\n",
      "75481    EMPODERAMENTO MULHER LIDER DESAFIOS EMERGENTES...\n",
      "75482    ANALISE DESAFIOS EXECUCAO PLANEJAMENTO ESTRATE...\n",
      "75483    Inovacao gerencial praticas gestao pessoas con...\n",
      "Name: titulo, Length: 75484, dtype: object\n"
     ]
    }
   ],
   "source": [
    "def all_clear(text, ac = 0, np = 0, es = 0, nw = 0, n = 3):\n",
    "\n",
    "    if ac == 1:\n",
    "        text = accented_characters(text)\n",
    "\n",
    "    if np == 1:\n",
    "        text = numbers_and_punctuation(text)\n",
    "\n",
    "    if es == 1:\n",
    "        text = excessive_spaces(text)\n",
    "\n",
    "    if nw == 1:\n",
    "        text = n_words(text, n)\n",
    "\n",
    "    return text\n",
    "\n",
    "print(f'Entrada:\\n{df['titulo']}\\n')\n",
    "print(f'Saída:\\n{df['titulo'].astype(str).apply(all_clear, ac=1, np=1, es=1, nw=1, n=3)}')"
   ]
  }
 ],
 "metadata": {
  "kernelspec": {
   "display_name": "Códigos",
   "language": "python",
   "name": "python3"
  },
  "language_info": {
   "codemirror_mode": {
    "name": "ipython",
    "version": 3
   },
   "file_extension": ".py",
   "mimetype": "text/x-python",
   "name": "python",
   "nbconvert_exporter": "python",
   "pygments_lexer": "ipython3",
   "version": "3.12.3"
  }
 },
 "nbformat": 4,
 "nbformat_minor": 2
}
