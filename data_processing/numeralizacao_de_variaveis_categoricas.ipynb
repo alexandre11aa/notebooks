{
 "cells": [
  {
   "cell_type": "markdown",
   "id": "4f7409ef-3738-4fa8-86ad-c0ed93122ef4",
   "metadata": {},
   "source": [
    "# Numeralização de Variáveis Categóricas\n",
    "\n",
    "Variáveis categóricas, em geral, representam grupos ou categorias, não possuindo na maioria das vezes uma ordem natural entre si e não podendo ser ordenadas de forma significativa. Alguns exemplos dessas variáveis são as cores (vermelho, azul, verde), os tipos de gênero (másculino e feminino), os tipos de animais (cachorro, gato, pássaro) ou os níveis de educação (fundamental, médio, superior).\n",
    "\n",
    "Para aplicação dessas variáveis em métodos de aprendizado de máquinas como o agrupamento (cluster) ou a predição, se faz necessário a numeralização delas. Neste notebook serão apresentados dois tipos, a binarização e a percentualização de variáveis."
   ]
  },
  {
   "cell_type": "markdown",
   "id": "02d72846-9fd1-4148-8607-b75f8561f0fc",
   "metadata": {},
   "source": [
    "## Configuração dos dados"
   ]
  },
  {
   "cell_type": "code",
   "execution_count": 1,
   "id": "a1e39f61-a497-4e7a-be0a-8b507256a1fc",
   "metadata": {},
   "outputs": [
    {
     "data": {
      "text/html": [
       "<div>\n",
       "<style scoped>\n",
       "    .dataframe tbody tr th:only-of-type {\n",
       "        vertical-align: middle;\n",
       "    }\n",
       "\n",
       "    .dataframe tbody tr th {\n",
       "        vertical-align: top;\n",
       "    }\n",
       "\n",
       "    .dataframe thead th {\n",
       "        text-align: right;\n",
       "    }\n",
       "</style>\n",
       "<table border=\"1\" class=\"dataframe\">\n",
       "  <thead>\n",
       "    <tr style=\"text-align: right;\">\n",
       "      <th></th>\n",
       "      <th>Estado</th>\n",
       "      <th>Gênero</th>\n",
       "      <th>Educação</th>\n",
       "    </tr>\n",
       "  </thead>\n",
       "  <tbody>\n",
       "    <tr>\n",
       "      <th>0</th>\n",
       "      <td>pernambuco</td>\n",
       "      <td>masculino</td>\n",
       "      <td>superior</td>\n",
       "    </tr>\n",
       "    <tr>\n",
       "      <th>1</th>\n",
       "      <td>paraíba</td>\n",
       "      <td>masculino</td>\n",
       "      <td>fundamental</td>\n",
       "    </tr>\n",
       "    <tr>\n",
       "      <th>2</th>\n",
       "      <td>pernambuco</td>\n",
       "      <td>masculino</td>\n",
       "      <td>médio</td>\n",
       "    </tr>\n",
       "    <tr>\n",
       "      <th>3</th>\n",
       "      <td>paraíba</td>\n",
       "      <td>masculino</td>\n",
       "      <td>superior</td>\n",
       "    </tr>\n",
       "    <tr>\n",
       "      <th>4</th>\n",
       "      <td>piauí</td>\n",
       "      <td>feminino</td>\n",
       "      <td>fundamental</td>\n",
       "    </tr>\n",
       "  </tbody>\n",
       "</table>\n",
       "</div>"
      ],
      "text/plain": [
       "       Estado     Gênero     Educação\n",
       "0  pernambuco  masculino     superior\n",
       "1     paraíba  masculino  fundamental\n",
       "2  pernambuco  masculino        médio\n",
       "3     paraíba  masculino     superior\n",
       "4       piauí   feminino  fundamental"
      ]
     },
     "execution_count": 1,
     "metadata": {},
     "output_type": "execute_result"
    }
   ],
   "source": [
    "# Importando a biblioteca random\n",
    "import random\n",
    "\n",
    "# Importando a biblioteca pandas\n",
    "import pandas as pd\n",
    "\n",
    "# Definindo lista de estados brasileiros\n",
    "estados_nordeste = ['alagoas', 'bahia', 'ceará', \n",
    "                    'maranhão', 'paraíba', 'pernambuco', \n",
    "                    'piauí', 'rio grande do norte', 'sergipe']\n",
    "\n",
    "# Definindo lista de gêneros\n",
    "generos = ['masculino', 'feminino']\n",
    "\n",
    "# Definindo lista de níveis de educação\n",
    "educacao = ['fundamental', 'médio', 'superior']\n",
    "\n",
    "# Definindo lista de dados vazia\n",
    "dados = []\n",
    "\n",
    "# Laço de 101 repetições\n",
    "for i in range(101):\n",
    "\n",
    "    # Incluindo na lista de dados, biblioteca com gênero e educação aleatórios com base nas listas dos mesmos\n",
    "    dados.append({'Estado': random.choice(estados_nordeste), 'Gênero': random.choice(generos), 'Educação': random.choice(educacao)})\n",
    "\n",
    "# Criando planilha de dados pandas a partir de lista de dados\n",
    "df = pd.DataFrame(dados)\n",
    "\n",
    "# Exibindo 5 primeiras linhas da planilha de dados\n",
    "df.head(5)"
   ]
  },
  {
   "cell_type": "markdown",
   "id": "05668daa-be82-4349-b34d-210d82029460",
   "metadata": {},
   "source": [
    "## Binarização de variáveis\n",
    "\n",
    "A binarização das variáveis, ocorre quando elas são transformadas em 0 e 1. Quando uma coluna possui apenas duas variáveis, essa binarização ocorre de maneira que o 0 ocupa a posição de uma das variáveis, e o 1 da outra. Já quando a coluna possui mais que duas variáveis, se faz necessária a criação de uma coluna para cada variáveil, onde o 0 assumirá a posição de ocorrência da variável, e o 1 da não ocorrência, ou vice-versa."
   ]
  },
  {
   "cell_type": "markdown",
   "id": "e7e80999-78f5-4364-a0b6-209b580f9d49",
   "metadata": {},
   "source": [
    "#### Coluna com duas variáveis"
   ]
  },
  {
   "cell_type": "code",
   "execution_count": 2,
   "id": "a80e38ea-f643-48a0-80ae-47329f4ef04f",
   "metadata": {
    "scrolled": true
   },
   "outputs": [
    {
     "data": {
      "text/html": [
       "<div>\n",
       "<style scoped>\n",
       "    .dataframe tbody tr th:only-of-type {\n",
       "        vertical-align: middle;\n",
       "    }\n",
       "\n",
       "    .dataframe tbody tr th {\n",
       "        vertical-align: top;\n",
       "    }\n",
       "\n",
       "    .dataframe thead th {\n",
       "        text-align: right;\n",
       "    }\n",
       "</style>\n",
       "<table border=\"1\" class=\"dataframe\">\n",
       "  <thead>\n",
       "    <tr style=\"text-align: right;\">\n",
       "      <th></th>\n",
       "      <th>Estado</th>\n",
       "      <th>Gênero</th>\n",
       "      <th>Educação</th>\n",
       "    </tr>\n",
       "  </thead>\n",
       "  <tbody>\n",
       "    <tr>\n",
       "      <th>0</th>\n",
       "      <td>pernambuco</td>\n",
       "      <td>0</td>\n",
       "      <td>superior</td>\n",
       "    </tr>\n",
       "    <tr>\n",
       "      <th>1</th>\n",
       "      <td>paraíba</td>\n",
       "      <td>0</td>\n",
       "      <td>fundamental</td>\n",
       "    </tr>\n",
       "    <tr>\n",
       "      <th>2</th>\n",
       "      <td>pernambuco</td>\n",
       "      <td>0</td>\n",
       "      <td>médio</td>\n",
       "    </tr>\n",
       "    <tr>\n",
       "      <th>3</th>\n",
       "      <td>paraíba</td>\n",
       "      <td>0</td>\n",
       "      <td>superior</td>\n",
       "    </tr>\n",
       "    <tr>\n",
       "      <th>4</th>\n",
       "      <td>piauí</td>\n",
       "      <td>1</td>\n",
       "      <td>fundamental</td>\n",
       "    </tr>\n",
       "  </tbody>\n",
       "</table>\n",
       "</div>"
      ],
      "text/plain": [
       "       Estado  Gênero     Educação\n",
       "0  pernambuco       0     superior\n",
       "1     paraíba       0  fundamental\n",
       "2  pernambuco       0        médio\n",
       "3     paraíba       0     superior\n",
       "4       piauí       1  fundamental"
      ]
     },
     "execution_count": 2,
     "metadata": {},
     "output_type": "execute_result"
    }
   ],
   "source": [
    "# Clonando DataFrame para teste\n",
    "df_test = df.copy()\n",
    "\n",
    "# Binarizando coluna Gênero\n",
    "df_test['Gênero'] = df_test['Gênero'].map({'masculino': 0, 'feminino': 1})\n",
    "\n",
    "# Exibindo 5 primeiras linhas da planilha de dados\n",
    "df_test.head(5)"
   ]
  },
  {
   "cell_type": "markdown",
   "id": "6d235a28-d465-4552-8f04-fbedf0a42a48",
   "metadata": {},
   "source": [
    "#### Coluna com mais de duas variáveis"
   ]
  },
  {
   "cell_type": "code",
   "execution_count": 3,
   "id": "ef4abb00-8e18-4721-a833-59396621d995",
   "metadata": {},
   "outputs": [
    {
     "data": {
      "text/html": [
       "<div>\n",
       "<style scoped>\n",
       "    .dataframe tbody tr th:only-of-type {\n",
       "        vertical-align: middle;\n",
       "    }\n",
       "\n",
       "    .dataframe tbody tr th {\n",
       "        vertical-align: top;\n",
       "    }\n",
       "\n",
       "    .dataframe thead th {\n",
       "        text-align: right;\n",
       "    }\n",
       "</style>\n",
       "<table border=\"1\" class=\"dataframe\">\n",
       "  <thead>\n",
       "    <tr style=\"text-align: right;\">\n",
       "      <th></th>\n",
       "      <th>Estado</th>\n",
       "      <th>Educação</th>\n",
       "      <th>Gênero_feminino</th>\n",
       "      <th>Gênero_masculino</th>\n",
       "    </tr>\n",
       "  </thead>\n",
       "  <tbody>\n",
       "    <tr>\n",
       "      <th>0</th>\n",
       "      <td>pernambuco</td>\n",
       "      <td>superior</td>\n",
       "      <td>0</td>\n",
       "      <td>1</td>\n",
       "    </tr>\n",
       "    <tr>\n",
       "      <th>1</th>\n",
       "      <td>paraíba</td>\n",
       "      <td>fundamental</td>\n",
       "      <td>0</td>\n",
       "      <td>1</td>\n",
       "    </tr>\n",
       "    <tr>\n",
       "      <th>2</th>\n",
       "      <td>pernambuco</td>\n",
       "      <td>médio</td>\n",
       "      <td>0</td>\n",
       "      <td>1</td>\n",
       "    </tr>\n",
       "    <tr>\n",
       "      <th>3</th>\n",
       "      <td>paraíba</td>\n",
       "      <td>superior</td>\n",
       "      <td>0</td>\n",
       "      <td>1</td>\n",
       "    </tr>\n",
       "    <tr>\n",
       "      <th>4</th>\n",
       "      <td>piauí</td>\n",
       "      <td>fundamental</td>\n",
       "      <td>1</td>\n",
       "      <td>0</td>\n",
       "    </tr>\n",
       "  </tbody>\n",
       "</table>\n",
       "</div>"
      ],
      "text/plain": [
       "       Estado     Educação  Gênero_feminino  Gênero_masculino\n",
       "0  pernambuco     superior                0                 1\n",
       "1     paraíba  fundamental                0                 1\n",
       "2  pernambuco        médio                0                 1\n",
       "3     paraíba     superior                0                 1\n",
       "4       piauí  fundamental                1                 0"
      ]
     },
     "execution_count": 3,
     "metadata": {},
     "output_type": "execute_result"
    }
   ],
   "source": [
    "# Clonando DataFrame para teste\n",
    "df_test = df.copy()\n",
    "\n",
    "# Binarizando coluna Gênero\n",
    "df_test = pd.get_dummies(df_test, columns=['Gênero'], dtype=int)\n",
    "\n",
    "# Exibindo 5 primeiras linhas da planilha de dados\n",
    "df_test.head(5)"
   ]
  },
  {
   "cell_type": "markdown",
   "id": "52197153-f153-4a14-bf2d-564a38aa6253",
   "metadata": {},
   "source": [
    "## Percentualização de variáveis\n",
    "\n",
    "A percentualização das variáveis, ocorre quando elas são transformadas no percentual das vezes em que aparecem na coluna. O método possui um bom uso para colunas que possuem multiplas variáveis, visto que apenas uma coluna é criada, e só é recomendado seu uso quando a coluna não possui variáveis com o mesmo número de repetições entre si."
   ]
  },
  {
   "cell_type": "code",
   "execution_count": 4,
   "id": "0e4fc69c-bd2f-4320-871f-2bad4e476dc8",
   "metadata": {},
   "outputs": [
    {
     "data": {
      "text/html": [
       "<div>\n",
       "<style scoped>\n",
       "    .dataframe tbody tr th:only-of-type {\n",
       "        vertical-align: middle;\n",
       "    }\n",
       "\n",
       "    .dataframe tbody tr th {\n",
       "        vertical-align: top;\n",
       "    }\n",
       "\n",
       "    .dataframe thead th {\n",
       "        text-align: right;\n",
       "    }\n",
       "</style>\n",
       "<table border=\"1\" class=\"dataframe\">\n",
       "  <thead>\n",
       "    <tr style=\"text-align: right;\">\n",
       "      <th></th>\n",
       "      <th>Estado</th>\n",
       "      <th>Gênero</th>\n",
       "      <th>Educação</th>\n",
       "    </tr>\n",
       "  </thead>\n",
       "  <tbody>\n",
       "    <tr>\n",
       "      <th>0</th>\n",
       "      <td>0.099010</td>\n",
       "      <td>masculino</td>\n",
       "      <td>superior</td>\n",
       "    </tr>\n",
       "    <tr>\n",
       "      <th>1</th>\n",
       "      <td>0.138614</td>\n",
       "      <td>masculino</td>\n",
       "      <td>fundamental</td>\n",
       "    </tr>\n",
       "    <tr>\n",
       "      <th>2</th>\n",
       "      <td>0.099010</td>\n",
       "      <td>masculino</td>\n",
       "      <td>médio</td>\n",
       "    </tr>\n",
       "    <tr>\n",
       "      <th>3</th>\n",
       "      <td>0.138614</td>\n",
       "      <td>masculino</td>\n",
       "      <td>superior</td>\n",
       "    </tr>\n",
       "    <tr>\n",
       "      <th>4</th>\n",
       "      <td>0.108911</td>\n",
       "      <td>feminino</td>\n",
       "      <td>fundamental</td>\n",
       "    </tr>\n",
       "  </tbody>\n",
       "</table>\n",
       "</div>"
      ],
      "text/plain": [
       "     Estado     Gênero     Educação\n",
       "0  0.099010  masculino     superior\n",
       "1  0.138614  masculino  fundamental\n",
       "2  0.099010  masculino        médio\n",
       "3  0.138614  masculino     superior\n",
       "4  0.108911   feminino  fundamental"
      ]
     },
     "execution_count": 4,
     "metadata": {},
     "output_type": "execute_result"
    }
   ],
   "source": [
    "# Clonando DataFrame para demonstração\n",
    "df_test = df.copy()\n",
    "\n",
    "# Calculando a frequência relativa das variáveis\n",
    "frequencia_relativa = df_test['Estado'].value_counts(normalize=True).to_dict()\n",
    "\n",
    "# Substituindo os valores categóricos pelos valores numéricos correspondentes\n",
    "df_test['Estado'] = df_test['Estado'].map(frequencia_relativa)\n",
    "\n",
    "# Exibindo 5 primeiras linhas da planilha de dados\n",
    "df_test.head(5)"
   ]
  },
  {
   "cell_type": "markdown",
   "id": "82a468e6-b273-4bce-a22b-d089434402f4",
   "metadata": {},
   "source": [
    "## Considerações finais\n",
    "\n",
    "O método a ser utilizado dependerá da disposição dos dados, e o indicativo de qual utilizar sempre partirá da interpretação do analista, e da precisão que os resultados do uso apresentarão."
   ]
  }
 ],
 "metadata": {
  "kernelspec": {
   "display_name": "Python 3 (ipykernel)",
   "language": "python",
   "name": "python3"
  },
  "language_info": {
   "codemirror_mode": {
    "name": "ipython",
    "version": 3
   },
   "file_extension": ".py",
   "mimetype": "text/x-python",
   "name": "python",
   "nbconvert_exporter": "python",
   "pygments_lexer": "ipython3",
   "version": "3.10.12"
  }
 },
 "nbformat": 4,
 "nbformat_minor": 5
}
