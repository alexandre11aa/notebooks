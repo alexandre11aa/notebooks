{
 "cells": [
  {
   "cell_type": "markdown",
   "id": "28acbab1-73a9-4d7b-947d-a089c86c5931",
   "metadata": {},
   "source": [
    "# Introdução ao Caderno\n",
    "\n",
    "Esse caderno trata da predição de óbitos humanos por febre amarela no Brasil por aprendizado de máquinas supervisionado, a partir de uma base de dados pública disponibilizada pelo Mistério da Saúde do Brasil. \n",
    "\n",
    "* A fonte dos dados pode ser encontrada no seguinte endereço: \n",
    "\n",
    "    https://dados.gov.br/dados/conjuntos-dados/febre-amarela-em-humanos-e-primatas-no-humanos---1994-a-2021\n",
    "\n",
    "* Os dados são rótulados e possuem as seguintes variáveis:\n",
    "\n",
    "    - MACRORREG_LPI: Identificador sequencial único\n",
    "    - COD_UF_LPI Sigla da macrorregião do local provável de infecção\n",
    "    - UF_LPI: Código IBGE da Unidade Federada do local provável de infecção\n",
    "    - COD_MUN_LPI: Sigla da Unidade Federada do local provável de infecção\n",
    "    - MUN_LPI: Nome do município do local provável de infecção\n",
    "    - SEXO: Sexo do indivíduo\n",
    "    - IDADE: Idade do indivíduo\n",
    "    - DT_IS: Data de início dos sintomas do indivíduo (dd/mm/aaaa)\n",
    "    - SE_IS: Semana epidemiológica de início dos sintomas do indivíduo\n",
    "    - MES_IS: Mês de início dos sintomas do indivíduo\n",
    "    - ANO_IS: Ano de início dos sintomas do indivíduo\n",
    "    - MONITORAMENTO_IS: Período de monitoramento de início dos sintomas do indivíduo*\n",
    "    - OBITO: Evolução para o óbito"
   ]
  },
  {
   "cell_type": "markdown",
   "id": "2d5a77f2-b4fc-469b-8107-4a9365cd2152",
   "metadata": {},
   "source": [
    "### Carregando dados"
   ]
  },
  {
   "cell_type": "code",
   "execution_count": 1,
   "id": "50dbe5c4-3f66-46aa-b40a-37d501108587",
   "metadata": {},
   "outputs": [
    {
     "data": {
      "text/html": [
       "<div>\n",
       "<style scoped>\n",
       "    .dataframe tbody tr th:only-of-type {\n",
       "        vertical-align: middle;\n",
       "    }\n",
       "\n",
       "    .dataframe tbody tr th {\n",
       "        vertical-align: top;\n",
       "    }\n",
       "\n",
       "    .dataframe thead th {\n",
       "        text-align: right;\n",
       "    }\n",
       "</style>\n",
       "<table border=\"1\" class=\"dataframe\">\n",
       "  <thead>\n",
       "    <tr style=\"text-align: right;\">\n",
       "      <th></th>\n",
       "      <th>MACRORREG_LPI</th>\n",
       "      <th>COD_UF_LPI</th>\n",
       "      <th>UF_LPI</th>\n",
       "      <th>COD_MUN_LPI</th>\n",
       "      <th>MUN_LPI</th>\n",
       "      <th>SEXO</th>\n",
       "      <th>IDADE</th>\n",
       "      <th>DT_IS</th>\n",
       "      <th>SE_IS</th>\n",
       "      <th>MES_IS</th>\n",
       "      <th>ANO_IS</th>\n",
       "      <th>MONITORAMENTO_IS</th>\n",
       "      <th>OBITO</th>\n",
       "    </tr>\n",
       "  </thead>\n",
       "  <tbody>\n",
       "    <tr>\n",
       "      <th>0</th>\n",
       "      <td>N</td>\n",
       "      <td>14</td>\n",
       "      <td>RR</td>\n",
       "      <td>140005.0</td>\n",
       "      <td>Alto Alegre</td>\n",
       "      <td>M</td>\n",
       "      <td>NaN</td>\n",
       "      <td>29/11/1994</td>\n",
       "      <td>48.0</td>\n",
       "      <td>11.0</td>\n",
       "      <td>1994</td>\n",
       "      <td>1994/1995</td>\n",
       "      <td>SIM</td>\n",
       "    </tr>\n",
       "    <tr>\n",
       "      <th>1</th>\n",
       "      <td>N</td>\n",
       "      <td>14</td>\n",
       "      <td>RR</td>\n",
       "      <td>140045.0</td>\n",
       "      <td>Pacaraima</td>\n",
       "      <td>M</td>\n",
       "      <td>19</td>\n",
       "      <td>19/02/1995</td>\n",
       "      <td>8.0</td>\n",
       "      <td>2.0</td>\n",
       "      <td>1995</td>\n",
       "      <td>1994/1995</td>\n",
       "      <td>NÃO</td>\n",
       "    </tr>\n",
       "    <tr>\n",
       "      <th>2</th>\n",
       "      <td>NE</td>\n",
       "      <td>21</td>\n",
       "      <td>MA</td>\n",
       "      <td>210060.0</td>\n",
       "      <td>Amarante do Maranhão</td>\n",
       "      <td>M</td>\n",
       "      <td>32</td>\n",
       "      <td>01/04/1995</td>\n",
       "      <td>13.0</td>\n",
       "      <td>4.0</td>\n",
       "      <td>1995</td>\n",
       "      <td>1994/1995</td>\n",
       "      <td>IGN</td>\n",
       "    </tr>\n",
       "  </tbody>\n",
       "</table>\n",
       "</div>"
      ],
      "text/plain": [
       "  MACRORREG_LPI  COD_UF_LPI UF_LPI  COD_MUN_LPI               MUN_LPI SEXO  \\\n",
       "0             N          14     RR     140005.0           Alto Alegre    M   \n",
       "1             N          14     RR     140045.0             Pacaraima    M   \n",
       "2            NE          21     MA     210060.0  Amarante do Maranhão    M   \n",
       "\n",
       "  IDADE       DT_IS  SE_IS  MES_IS  ANO_IS MONITORAMENTO_IS OBITO  \n",
       "0   NaN  29/11/1994   48.0    11.0    1994        1994/1995   SIM  \n",
       "1    19  19/02/1995    8.0     2.0    1995        1994/1995   NÃO  \n",
       "2    32  01/04/1995   13.0     4.0    1995        1994/1995   IGN  "
      ]
     },
     "execution_count": 1,
     "metadata": {},
     "output_type": "execute_result"
    }
   ],
   "source": [
    "import pandas as pd\n",
    "\n",
    "df = pd.read_csv('datas/fa_casoshumanos_1994-2021.csv', sep=';')\n",
    "\n",
    "df_final = df.copy()\n",
    "\n",
    "df = df.drop('ID', axis=1)\n",
    "\n",
    "df.head(3)"
   ]
  },
  {
   "cell_type": "code",
   "execution_count": 2,
   "id": "6de39926-0244-42ce-ae61-7c036e2cffb3",
   "metadata": {},
   "outputs": [
    {
     "name": "stdout",
     "output_type": "stream",
     "text": [
      "<class 'pandas.core.frame.DataFrame'>\n",
      "RangeIndex: 2758 entries, 0 to 2757\n",
      "Data columns (total 13 columns):\n",
      " #   Column            Non-Null Count  Dtype  \n",
      "---  ------            --------------  -----  \n",
      " 0   MACRORREG_LPI     2758 non-null   object \n",
      " 1   COD_UF_LPI        2758 non-null   int64  \n",
      " 2   UF_LPI            2758 non-null   object \n",
      " 3   COD_MUN_LPI       2751 non-null   float64\n",
      " 4   MUN_LPI           2752 non-null   object \n",
      " 5   SEXO              2757 non-null   object \n",
      " 6   IDADE             2756 non-null   object \n",
      " 7   DT_IS             2753 non-null   object \n",
      " 8   SE_IS             2742 non-null   float64\n",
      " 9   MES_IS            2747 non-null   float64\n",
      " 10  ANO_IS            2758 non-null   int64  \n",
      " 11  MONITORAMENTO_IS  2758 non-null   object \n",
      " 12  OBITO             2758 non-null   object \n",
      "dtypes: float64(3), int64(2), object(8)\n",
      "memory usage: 280.2+ KB\n"
     ]
    }
   ],
   "source": [
    "df.info()"
   ]
  },
  {
   "cell_type": "markdown",
   "id": "7cafdac8-c1f7-4046-8541-a103c59925a6",
   "metadata": {},
   "source": [
    "# Funções para Tratamento de Dados"
   ]
  },
  {
   "cell_type": "markdown",
   "id": "4f645001-8bac-48d9-9810-666f0688c0c5",
   "metadata": {},
   "source": [
    "### Taxa de ocorrência de Valores"
   ]
  },
  {
   "cell_type": "code",
   "execution_count": 3,
   "id": "09791209-08a1-4918-881f-3cbcec271868",
   "metadata": {},
   "outputs": [],
   "source": [
    "def t_ocorrencia(coluna):\n",
    "\n",
    "    # Valores onde há ocorrência\n",
    "    valores = list(coluna.value_counts().index)\n",
    "    \n",
    "    # Quantidade de ocorrências por região\n",
    "    ocorrencia = list(coluna.value_counts())\n",
    "    \n",
    "    # Quantidade total de ocorrências adaptado à porcentagem\n",
    "    n = sum(ocorrencia) * 100**(-1)\n",
    "    \n",
    "    for i in range(len(valores)):\n",
    "        if i < 10:\n",
    "            print(f'- A variável {valores[i]} representa {ocorrencia[i]/n:.2f}% do total.')\n",
    "\n",
    "        elif i == 10:\n",
    "            print('[...]')\n",
    "\n",
    "        else:\n",
    "            pass       "
   ]
  },
  {
   "cell_type": "markdown",
   "id": "bf8f0aa8-0670-43ec-8d7b-136e41010633",
   "metadata": {},
   "source": [
    "### Numeralização por Binários\n",
    "\n",
    "Consiste na transformação das variáveis qualitativas em binário."
   ]
  },
  {
   "cell_type": "code",
   "execution_count": 4,
   "id": "607c3dc8-249c-4d29-a08f-e3a9a5501908",
   "metadata": {},
   "outputs": [],
   "source": [
    "# Função\n",
    "\n",
    "def coluna_letras_para_binario(dataframe, coluna):\n",
    "    \n",
    "    # Cria variáveis dummy para a coluna especificada\n",
    "    dummies = pd.get_dummies(dataframe[coluna], prefix=coluna, drop_first=True).astype(int)\n",
    "    \n",
    "    # Adiciona as variáveis dummy ao DataFrame original\n",
    "    dataframe = pd.concat([dataframe, dummies], axis=1)\n",
    "    \n",
    "    # Remove a coluna original\n",
    "    dataframe.drop(coluna, axis=1, inplace=True)\n",
    "    \n",
    "    return dataframe"
   ]
  },
  {
   "cell_type": "markdown",
   "id": "f6b313b6-df71-4eb9-a888-79e4d1a30bce",
   "metadata": {},
   "source": [
    "### Numeralização por Percentual\n",
    "\n",
    "Consiste na transformação das variáveis qualitativas em seu percentual de aparição."
   ]
  },
  {
   "cell_type": "code",
   "execution_count": 5,
   "id": "50ccbdf6-fc15-426e-8dd4-50242fed9ccc",
   "metadata": {},
   "outputs": [],
   "source": [
    "def coluna_letras_para_numeros(dataframe, coluna):\n",
    "    \n",
    "    # Calcular a frequência relativa de cada categoria\n",
    "    frequencia_relativa = dataframe[coluna].value_counts(normalize=True).to_dict()\n",
    "    \n",
    "    # Substituir os valores categóricos pelos valores numéricos correspondentes\n",
    "    dataframe[coluna] = dataframe[coluna].map(frequencia_relativa)\n",
    "    \n",
    "    return dataframe"
   ]
  },
  {
   "cell_type": "markdown",
   "id": "166adfbd-1444-4cb6-a3c4-8d47b84397b9",
   "metadata": {},
   "source": [
    "### Substituição de nulos por mediana\n",
    "\n",
    "Consiste na substituição dos valores nulos de uma coluna por sua mediana."
   ]
  },
  {
   "cell_type": "code",
   "execution_count": 6,
   "id": "48f00f43-a3a6-4a62-a4b9-ebfb9527480c",
   "metadata": {},
   "outputs": [],
   "source": [
    "def substituir_nulos_por_mediana_coluna(dataframe, coluna):\n",
    "\n",
    "    # Calcula a mediana da coluna\n",
    "    mediana_coluna = dataframe[coluna].median()\n",
    "    \n",
    "    # Substitui os valores nulos pela mediana da coluna usando loc\n",
    "    dataframe.loc[dataframe[coluna].isnull(), coluna] = mediana_coluna\n",
    "    \n",
    "    return dataframe"
   ]
  },
  {
   "cell_type": "markdown",
   "id": "33876129-edf6-46c1-8ed9-12c0a00a2611",
   "metadata": {},
   "source": [
    "### Substituição de nulos por média\n",
    "\n",
    "Consiste na substituição dos valores nulos de uma coluna por sua média."
   ]
  },
  {
   "cell_type": "code",
   "execution_count": 7,
   "id": "d417bf3f-4879-4879-8c34-d40bc531b51f",
   "metadata": {},
   "outputs": [],
   "source": [
    "def substituir_nulos_por_media_coluna(dataframe, coluna):\n",
    "\n",
    "    # Calcula a media da coluna\n",
    "    media_coluna = dataframe[coluna].mean()\n",
    "    \n",
    "    # Substitui os valores nulos pela mediana da coluna usando loc\n",
    "    dataframe.loc[dataframe[coluna].isnull(), coluna] = media_coluna\n",
    "    \n",
    "    return dataframe"
   ]
  },
  {
   "cell_type": "markdown",
   "id": "44236e6c-8480-410a-9258-e78af4b48744",
   "metadata": {},
   "source": [
    "## K-Means"
   ]
  },
  {
   "cell_type": "code",
   "execution_count": 8,
   "id": "bf0f45c1-9cdd-4677-b6aa-fd68e431bb00",
   "metadata": {},
   "outputs": [],
   "source": [
    "from sklearn.cluster import KMeans\n",
    "\n",
    "def c_kmeans(k, df):\n",
    "\n",
    "    km = KMeans(n_clusters=k,\n",
    "            init='k-means++',\n",
    "            max_iter=300,\n",
    "            n_init=10,\n",
    "            random_state=0)\n",
    "    \n",
    "    km.fit(df)\n",
    "\n",
    "    return km"
   ]
  },
  {
   "cell_type": "markdown",
   "id": "fa416849-a9dd-4a17-8c1b-f50b94ca4c32",
   "metadata": {},
   "source": [
    "# Processamento de Colunas"
   ]
  },
  {
   "cell_type": "markdown",
   "id": "77a5d2d9-3b0e-4038-9c51-e8bb22138b7a",
   "metadata": {},
   "source": [
    "### 'MACRORREG_LPI'\n",
    "\n",
    "Como dito no início do caderno, apenas a predição para a região sudeste será feita. Os motivos serão explicados a seguir, em uma análise de ocorrência por região."
   ]
  },
  {
   "cell_type": "code",
   "execution_count": 9,
   "id": "814d644a-d0b6-4055-91ef-a17112c5a1a4",
   "metadata": {},
   "outputs": [
    {
     "name": "stdout",
     "output_type": "stream",
     "text": [
      "- A variável SE representa 85.21% do total.\n",
      "- A variável N representa 6.78% do total.\n",
      "- A variável CO representa 5.33% do total.\n",
      "- A variável S representa 2.25% do total.\n",
      "- A variável NE representa 0.44% do total.\n"
     ]
    }
   ],
   "source": [
    "# Regiões onde há ocorrência\n",
    "t_ocorrencia(df['MACRORREG_LPI'])"
   ]
  },
  {
   "cell_type": "code",
   "execution_count": 10,
   "id": "1a52fada-6839-4bd5-869c-d4d9eb209a23",
   "metadata": {},
   "outputs": [
    {
     "data": {
      "image/png": "[encoded data removed]",
      "text/plain": [
       "<Figure size 600x400 with 1 Axes>"
      ]
     },
     "metadata": {},
     "output_type": "display_data"
    }
   ],
   "source": [
    "import matplotlib.pyplot as plt\n",
    "import seaborn as sns\n",
    "\n",
    "plt.figure(figsize=(6, 4))\n",
    "sns.countplot(x='MACRORREG_LPI', data=df)\n",
    "plt.xlabel('MACRORREGIÃO')\n",
    "plt.ylabel('Ocorrências')\n",
    "plt.title('Contagem de Ocorrências por MACRORREGIÃO')\n",
    "plt.xticks(rotation=45)\n",
    "plt.tight_layout()\n",
    "plt.show()"
   ]
  },
  {
   "cell_type": "markdown",
   "id": "e6ae782d-1b52-49e8-a4d9-7579177162fe",
   "metadata": {},
   "source": [
    "Ao analisar a representatividade das regiões nos dados, nota-se a imensa disparidade da região sudeste com as outras. Dado que a soma das outras regiões representa menos de 15% das ocorrências, elas serão unidas em uma só. Após isso os dados da coluna serão transformados em binário visto que a coluna é qualitativa, e possuem poucos dados diferentes."
   ]
  },
  {
   "cell_type": "code",
   "execution_count": 11,
   "id": "0361b26b-30d6-445e-a807-45cda510d127",
   "metadata": {},
   "outputs": [
    {
     "data": {
      "text/plain": [
       "MACRORREG_LPI_SE\n",
       "1    2350\n",
       "0     408\n",
       "Name: count, dtype: int64"
      ]
     },
     "execution_count": 11,
     "metadata": {},
     "output_type": "execute_result"
    }
   ],
   "source": [
    "# Transformando regiões diferentes da sudeste em R que representa Restante\n",
    "df.loc[df['MACRORREG_LPI'] != 'SE', 'MACRORREG_LPI'] = 'R'\n",
    "\n",
    "# Transformando variáveis da coluna em binário\n",
    "df = coluna_letras_para_binario(df, 'MACRORREG_LPI')\n",
    "\n",
    "df['MACRORREG_LPI_SE'].value_counts()"
   ]
  },
  {
   "cell_type": "markdown",
   "id": "c64d7b72-ac97-4258-82a7-c3568a20dbcc",
   "metadata": {},
   "source": [
    "### 'COD_UF_LPI' e 'UF_LPI'\n",
    "\n",
    "As duas colunas representam a mesma coisa, visto que uma representa o ddd único de cada estado, e outra representa a sigla de cada estado. Como a coluna 'UF_LPI' possui siglas mais facilmente visualizaǘeis, ela será mantida."
   ]
  },
  {
   "cell_type": "code",
   "execution_count": 12,
   "id": "04f7a43f-f289-41f0-b0fb-9a9b2a3ded88",
   "metadata": {},
   "outputs": [],
   "source": [
    "# Excluindo coluna 'UF_LPI'\n",
    "df = df.drop('COD_UF_LPI', axis=1)"
   ]
  },
  {
   "cell_type": "markdown",
   "id": "89618f9d-d4d9-4c06-acc5-cde8efc64a65",
   "metadata": {},
   "source": [
    "Por ilação lógica, se a região sudeste representa a esmagadora maioria das ocorrências, então suas microrregiões representadas pelo ddd também lideram as ocorrências, provocando uma provavel baixa representatividade das outras microrregiões. Logo, seguindo a mesma linha de pensamento das transformações anteriores, as microrregiões que possuírem baixo recorrência estatística serão unidas em uma só."
   ]
  },
  {
   "cell_type": "code",
   "execution_count": 13,
   "id": "5386f28b-0581-4eff-b7dd-a2ed887c8d5d",
   "metadata": {},
   "outputs": [
    {
     "name": "stdout",
     "output_type": "stream",
     "text": [
      "- A variável MG representa 39.81% do total.\n",
      "- A variável SP representa 24.91% do total.\n",
      "- A variável RJ representa 11.13% do total.\n",
      "- A variável ES representa 9.35% do total.\n",
      "- A variável GO representa 3.55% do total.\n",
      "- A variável PA representa 3.44% do total.\n",
      "- A variável AM representa 1.74% do total.\n",
      "- A variável SC representa 0.98% do total.\n",
      "- A variável MT representa 0.98% do total.\n",
      "- A variável TO representa 0.83% do total.\n",
      "[...]\n"
     ]
    }
   ],
   "source": [
    "# Microrregiões onde há ocorrência\n",
    "t_ocorrencia(df['UF_LPI'])"
   ]
  },
  {
   "cell_type": "markdown",
   "id": "802b68e6-675c-4411-9b38-b2161f133ce3",
   "metadata": {},
   "source": [
    "De forma a resumir a quantidade de microrregiões sem representatividade, as que possuírem menos de 4% de ocorrência (que curiosamente são as microrregiões que não pertencem a região sudeste) serão transformadas em apenas uma variável. Após isso elas serão transformadas em variáveis numéricas de acordo com seu percentual de ocorrência."
   ]
  },
  {
   "cell_type": "code",
   "execution_count": 14,
   "id": "50073d83-98ea-4d05-bc48-0ac223373907",
   "metadata": {},
   "outputs": [
    {
     "data": {
      "text/plain": [
       "UF_LPI\n",
       "0.398115    1098\n",
       "0.249094     687\n",
       "0.147933     408\n",
       "0.111313     307\n",
       "0.093546     258\n",
       "Name: count, dtype: int64"
      ]
     },
     "execution_count": 14,
     "metadata": {},
     "output_type": "execute_result"
    }
   ],
   "source": [
    "# Transformando microrregiões sem representatividade em R que representa Restante\n",
    "df.loc[~df['UF_LPI'].isin(['MG', 'SP', 'RJ', 'ES']), 'UF_LPI'] = 'R'\n",
    "\n",
    "# Transformando variáveis da coluna em percentual de ocorrência\n",
    "df = coluna_letras_para_numeros(df, 'UF_LPI')\n",
    "\n",
    "df['UF_LPI'].value_counts()"
   ]
  },
  {
   "cell_type": "markdown",
   "id": "68a7bd97-8546-4830-9537-5c4c2ce22ae6",
   "metadata": {},
   "source": [
    "### 'COD_MUN_LPI' e 'MUN_LPI'\n",
    "\n",
    "Assim como no caso das microrregiões com os ddd's, as colunas 'COD_MUN_LPI' e 'MUN_LPI' representam a mesma coisa, logo, a coluna A 'COD_MUN_LPI' será excluída, e a 'MUN_LPI' tratada."
   ]
  },
  {
   "cell_type": "code",
   "execution_count": 15,
   "id": "ccaeea58-dacc-4ce0-8a5e-61ddb5e4a665",
   "metadata": {},
   "outputs": [],
   "source": [
    "# Excluindo coluna 'UF_LPI'\n",
    "df = df.drop('COD_MUN_LPI', axis=1)"
   ]
  },
  {
   "cell_type": "markdown",
   "id": "a1f826d8-0dcd-4ce7-b959-86d46bbfd70d",
   "metadata": {},
   "source": [
    "A coluna possui valores alguns poucos nulos. Para atribuir o valor dessas colunas, será atribuída a cidade com maior ocorrência para a UF que representa a cidade. Isso pois valores centrais como a média ou mediana não fazem sentido, visto que a coluna possui valores qualitativos e um número alto de cidades diferentes."
   ]
  },
  {
   "cell_type": "code",
   "execution_count": 16,
   "id": "289409c4-8847-43c2-b0e2-da149145e523",
   "metadata": {},
   "outputs": [
    {
     "data": {
      "text/html": [
       "<div>\n",
       "<style scoped>\n",
       "    .dataframe tbody tr th:only-of-type {\n",
       "        vertical-align: middle;\n",
       "    }\n",
       "\n",
       "    .dataframe tbody tr th {\n",
       "        vertical-align: top;\n",
       "    }\n",
       "\n",
       "    .dataframe thead th {\n",
       "        text-align: right;\n",
       "    }\n",
       "</style>\n",
       "<table border=\"1\" class=\"dataframe\">\n",
       "  <thead>\n",
       "    <tr style=\"text-align: right;\">\n",
       "      <th></th>\n",
       "      <th>UF_LPI</th>\n",
       "      <th>MUN_LPI</th>\n",
       "      <th>SEXO</th>\n",
       "      <th>IDADE</th>\n",
       "      <th>DT_IS</th>\n",
       "      <th>SE_IS</th>\n",
       "      <th>MES_IS</th>\n",
       "      <th>ANO_IS</th>\n",
       "      <th>MONITORAMENTO_IS</th>\n",
       "      <th>OBITO</th>\n",
       "      <th>MACRORREG_LPI_SE</th>\n",
       "    </tr>\n",
       "  </thead>\n",
       "  <tbody>\n",
       "    <tr>\n",
       "      <th>1103</th>\n",
       "      <td>0.398115</td>\n",
       "      <td>NaN</td>\n",
       "      <td>M</td>\n",
       "      <td>17</td>\n",
       "      <td>02/03/2017</td>\n",
       "      <td>9.0</td>\n",
       "      <td>3.0</td>\n",
       "      <td>2017</td>\n",
       "      <td>2016/2017</td>\n",
       "      <td>IGN</td>\n",
       "      <td>1</td>\n",
       "    </tr>\n",
       "    <tr>\n",
       "      <th>1202</th>\n",
       "      <td>0.398115</td>\n",
       "      <td>NaN</td>\n",
       "      <td>F</td>\n",
       "      <td>73</td>\n",
       "      <td>30/04/2017</td>\n",
       "      <td>18.0</td>\n",
       "      <td>4.0</td>\n",
       "      <td>2017</td>\n",
       "      <td>2016/2017</td>\n",
       "      <td>IGN</td>\n",
       "      <td>1</td>\n",
       "    </tr>\n",
       "    <tr>\n",
       "      <th>1217</th>\n",
       "      <td>0.398115</td>\n",
       "      <td>NaN</td>\n",
       "      <td>M</td>\n",
       "      <td>52</td>\n",
       "      <td>01/05/2017</td>\n",
       "      <td>18.0</td>\n",
       "      <td>5.0</td>\n",
       "      <td>2017</td>\n",
       "      <td>2016/2017</td>\n",
       "      <td>SIM</td>\n",
       "      <td>1</td>\n",
       "    </tr>\n",
       "    <tr>\n",
       "      <th>1241</th>\n",
       "      <td>0.398115</td>\n",
       "      <td>NaN</td>\n",
       "      <td>M</td>\n",
       "      <td>35</td>\n",
       "      <td>16/01/2017</td>\n",
       "      <td>3.0</td>\n",
       "      <td>1.0</td>\n",
       "      <td>2017</td>\n",
       "      <td>2016/2017</td>\n",
       "      <td>IGN</td>\n",
       "      <td>1</td>\n",
       "    </tr>\n",
       "    <tr>\n",
       "      <th>1243</th>\n",
       "      <td>0.398115</td>\n",
       "      <td>NaN</td>\n",
       "      <td>M</td>\n",
       "      <td>21</td>\n",
       "      <td>12/06/2017</td>\n",
       "      <td>24.0</td>\n",
       "      <td>6.0</td>\n",
       "      <td>2017</td>\n",
       "      <td>2016/2017</td>\n",
       "      <td>IGN</td>\n",
       "      <td>1</td>\n",
       "    </tr>\n",
       "    <tr>\n",
       "      <th>2642</th>\n",
       "      <td>0.249094</td>\n",
       "      <td>NaN</td>\n",
       "      <td>M</td>\n",
       "      <td>27</td>\n",
       "      <td>31/12/2018</td>\n",
       "      <td>1.0</td>\n",
       "      <td>12.0</td>\n",
       "      <td>2018</td>\n",
       "      <td>2018/2019</td>\n",
       "      <td>NÃO</td>\n",
       "      <td>1</td>\n",
       "    </tr>\n",
       "  </tbody>\n",
       "</table>\n",
       "</div>"
      ],
      "text/plain": [
       "        UF_LPI MUN_LPI SEXO IDADE       DT_IS  SE_IS  MES_IS  ANO_IS  \\\n",
       "1103  0.398115     NaN    M    17  02/03/2017    9.0     3.0    2017   \n",
       "1202  0.398115     NaN    F    73  30/04/2017   18.0     4.0    2017   \n",
       "1217  0.398115     NaN    M    52  01/05/2017   18.0     5.0    2017   \n",
       "1241  0.398115     NaN    M    35  16/01/2017    3.0     1.0    2017   \n",
       "1243  0.398115     NaN    M    21  12/06/2017   24.0     6.0    2017   \n",
       "2642  0.249094     NaN    M    27  31/12/2018    1.0    12.0    2018   \n",
       "\n",
       "     MONITORAMENTO_IS OBITO  MACRORREG_LPI_SE  \n",
       "1103        2016/2017   IGN                 1  \n",
       "1202        2016/2017   IGN                 1  \n",
       "1217        2016/2017   SIM                 1  \n",
       "1241        2016/2017   IGN                 1  \n",
       "1243        2016/2017   IGN                 1  \n",
       "2642        2018/2019   NÃO                 1  "
      ]
     },
     "execution_count": 16,
     "metadata": {},
     "output_type": "execute_result"
    }
   ],
   "source": [
    "# Checando valores nulos\n",
    "df[df['MUN_LPI'].isnull()]"
   ]
  },
  {
   "cell_type": "markdown",
   "id": "6cee2937-0fb8-44e0-b531-b4dbc1c879cc",
   "metadata": {},
   "source": [
    "Os dois valores de 'UF_LPI' que possuem dados nulos são '0.398115' e '0.249094'. Logo, serão escolhidas as cidades com mais ocorrência dessas regiões."
   ]
  },
  {
   "cell_type": "code",
   "execution_count": 17,
   "id": "afe6413d-ffd2-4bec-8c5b-527eaf2752f5",
   "metadata": {},
   "outputs": [
    {
     "data": {
      "text/plain": [
       "array([0.14793328, 0.24909355, 0.39811458, 0.09354605, 0.11131255])"
      ]
     },
     "execution_count": 17,
     "metadata": {},
     "output_type": "execute_result"
    }
   ],
   "source": [
    "# Lista de valores únicos do 'UF_LPI'\n",
    "df['UF_LPI'].unique()"
   ]
  },
  {
   "cell_type": "code",
   "execution_count": 18,
   "id": "7a3d4da9-fcd2-4089-846c-9f10586ca371",
   "metadata": {},
   "outputs": [
    {
     "name": "stdout",
     "output_type": "stream",
     "text": [
      "- A variável MAIRIPORÃ representa 24.34% do total.\n",
      "- A variável ATIBAIA representa 7.29% do total.\n",
      "- A variável SÃO PAULO representa 4.81% do total.\n",
      "- A variável NAZARÉ PAULISTA representa 4.66% do total.\n",
      "- A variável GUARULHOS representa 4.08% do total.\n",
      "- A variável IPORANGA representa 2.77% do total.\n",
      "- A variável ELDORADO representa 2.33% do total.\n",
      "- A variável IBIÚNA representa 2.04% do total.\n",
      "- A variável PIRAJU representa 2.04% do total.\n",
      "- A variável SANTA ISABEL representa 1.75% do total.\n",
      "[...]\n"
     ]
    }
   ],
   "source": [
    "# Ocorrências de 0.24909355\n",
    "t_ocorrencia(df[df['UF_LPI'] == df['UF_LPI'].unique()[1]]['MUN_LPI'])"
   ]
  },
  {
   "cell_type": "code",
   "execution_count": 19,
   "id": "98ac2cd5-9fe6-451f-9fc3-08fd2cf0d867",
   "metadata": {},
   "outputs": [
    {
     "name": "stdout",
     "output_type": "stream",
     "text": [
      "- A variável LADAINHA representa 4.21% do total.\n",
      "- A variável JUIZ DE FORA representa 3.75% do total.\n",
      "- A variável MARIANA representa 3.75% do total.\n",
      "- A variável NOVA LIMA representa 3.29% do total.\n",
      "- A variável POTÉ representa 2.38% do total.\n",
      "- A variável SERRO representa 2.29% do total.\n",
      "- A variável BARÃO DE COCAIS representa 2.20% do total.\n",
      "- A variável SABINÓPOLIS representa 2.10% do total.\n",
      "- A variável NOVO CRUZEIRO representa 1.92% do total.\n",
      "- A variável TEÓFILO OTONI representa 1.74% do total.\n",
      "[...]\n"
     ]
    }
   ],
   "source": [
    "# Ocorrências de 0.0.39811458\n",
    "t_ocorrencia(df[df['UF_LPI'] == df['UF_LPI'].unique()[2]]['MUN_LPI'])"
   ]
  },
  {
   "cell_type": "code",
   "execution_count": 20,
   "id": "ee1e8cd7-3b85-4458-8012-e5b22e309e20",
   "metadata": {},
   "outputs": [
    {
     "name": "stdout",
     "output_type": "stream",
     "text": [
      "Valores nulos: 0\n"
     ]
    }
   ],
   "source": [
    "# Transformando valores nulos em cidades com mais ocorrências para cada macrorregião\n",
    "df.loc[(df['MUN_LPI'].isnull()) & (df['UF_LPI'] == df['UF_LPI'].unique()[1]), 'MUN_LPI'] = str('MAIRIPORÃ')\n",
    "df.loc[(df['MUN_LPI'].isnull()) & (df['UF_LPI'] == df['UF_LPI'].unique()[2]), 'MUN_LPI'] = str('LADAINHA')\n",
    "\n",
    "# Transformando variáveis da coluna em percentual de ocorrência\n",
    "df = coluna_letras_para_numeros(df, 'MUN_LPI')\n",
    "\n",
    "print('Valores nulos:', sum(df['MUN_LPI'].isnull()))"
   ]
  },
  {
   "cell_type": "markdown",
   "id": "bf347982-8af9-4ea9-8319-010baec3a269",
   "metadata": {},
   "source": [
    "### SEXO\n",
    "\n",
    "A coluna sexo possui apenas duas variáveis. Logo, o único procedimento a se tomar é transformar a coluna em numérico binário."
   ]
  },
  {
   "cell_type": "code",
   "execution_count": 21,
   "id": "3d68ac9e-8562-4d6c-a052-78bb6896b3de",
   "metadata": {},
   "outputs": [
    {
     "data": {
      "text/plain": [
       "SEXO_M\n",
       "1    2281\n",
       "0     477\n",
       "Name: count, dtype: int64"
      ]
     },
     "execution_count": 21,
     "metadata": {},
     "output_type": "execute_result"
    }
   ],
   "source": [
    "# Transformação em binário\n",
    "df = coluna_letras_para_binario(df, 'SEXO')\n",
    "\n",
    "df['SEXO_M'].value_counts()"
   ]
  },
  {
   "cell_type": "markdown",
   "id": "68216833-6340-45b1-9e8f-6284d27bb3da",
   "metadata": {},
   "source": [
    "### IDADE\n",
    "\n",
    "A coluna 'IDADE' é quantitativa, e o único problema que ela apresenta são seus valores nulos."
   ]
  },
  {
   "cell_type": "code",
   "execution_count": 22,
   "id": "b674c980-7f3f-4fcf-b5e4-51b7311bcdd9",
   "metadata": {},
   "outputs": [
    {
     "name": "stdout",
     "output_type": "stream",
     "text": [
      "Existem 193 variáveis diferentes e 2 valores nulos.\n"
     ]
    }
   ],
   "source": [
    "# Remover vírgulas e converter para float\n",
    "df['IDADE'] = df['IDADE'].str.replace(',', '.').astype(float)\n",
    "\n",
    "print(f\"Existem {len(df['IDADE'].value_counts())} variáveis diferentes e {df['IDADE'].isnull().sum()} valores nulos.\")"
   ]
  },
  {
   "cell_type": "markdown",
   "id": "38993787-203d-474d-84d4-aa42c959629e",
   "metadata": {},
   "source": [
    "Dado a existência de uma grande quantidade de variáveis, faz mais sentido preencher os valores nulos com medidas centrais."
   ]
  },
  {
   "cell_type": "code",
   "execution_count": 23,
   "id": "2d519b96-2fed-40f6-a23f-820a45f26fc0",
   "metadata": {},
   "outputs": [
    {
     "data": {
      "image/png": "[encoded data removed]",
      "text/plain": [
       "<Figure size 600x400 with 1 Axes>"
      ]
     },
     "metadata": {},
     "output_type": "display_data"
    }
   ],
   "source": [
    "#Excluindo nulos em DataFrame teste para analisar boxplot\n",
    "df_boxplot = df.dropna(subset=['IDADE'])\n",
    "\n",
    "# Plotando o gráfico boxplot\n",
    "plt.figure(figsize=(6, 4))\n",
    "plt.boxplot(df_boxplot['IDADE'])\n",
    "plt.scatter(1, df_boxplot['IDADE'].mean(), color='red', marker='o', s=25)\n",
    "plt.tick_params(axis='x', which='both', bottom=False, top=False, labelbottom=False)\n",
    "plt.title('Idade')\n",
    "plt.show()"
   ]
  },
  {
   "cell_type": "markdown",
   "id": "a9f9a723-b875-4aca-b2cf-59ce65a70b1b",
   "metadata": {},
   "source": [
    "Como pode ser visto no gráfico da idade, existem poucos outliers, e uma distribuição consistente de idade. A média representada pelo ponto vermelho está em cima da linha da mediada, o que reafirma a boa distribuição dos valores. Assim sendo, para substituir os valores nulos, a medida central utilizada será a média."
   ]
  },
  {
   "cell_type": "code",
   "execution_count": 24,
   "id": "d0ac18ec-25a2-4dcd-b908-65ad113cb1d8",
   "metadata": {},
   "outputs": [
    {
     "name": "stdout",
     "output_type": "stream",
     "text": [
      "Valores nulos: 0\n"
     ]
    }
   ],
   "source": [
    "# Substituindo nulos por média\n",
    "substituir_nulos_por_media_coluna(df, 'IDADE')\n",
    "\n",
    "print('Valores nulos:', sum(df['IDADE'].isnull()))"
   ]
  },
  {
   "cell_type": "markdown",
   "id": "aac98b03-aef8-4313-a017-9e91de530792",
   "metadata": {},
   "source": [
    "### DT_IS\n",
    "\n",
    "A coluna 'DT_IS' representa a data exata dos início dos sintomas, contudo, existem outras colunas como a 'SE_IS', 'MES_IS' e 'ANO_IS' que separam a data em semana, mês e ano do início dos sintomas, tornando essa coluna inútil. Logo, ela será excluída."
   ]
  },
  {
   "cell_type": "code",
   "execution_count": 25,
   "id": "d73bbd72-0e9c-4eda-b35c-af70f477e2ae",
   "metadata": {},
   "outputs": [],
   "source": [
    "# Excluindo coluna 'DT_IS'\n",
    "df = df.drop('DT_IS', axis=1)"
   ]
  },
  {
   "cell_type": "markdown",
   "id": "21095259-97e7-4d77-bf4d-79ce72da76ec",
   "metadata": {},
   "source": [
    "### SE_IS\n",
    "\n",
    "A coluna 'SEI_IS' é numérica, e o único problema que ela apresenta são seus valores nulos."
   ]
  },
  {
   "cell_type": "code",
   "execution_count": 26,
   "id": "bafc06e0-9636-4f86-9e3b-1793b9b93b42",
   "metadata": {},
   "outputs": [
    {
     "name": "stdout",
     "output_type": "stream",
     "text": [
      "Existem 51 variáveis diferentes e 16 valores nulos.\n"
     ]
    }
   ],
   "source": [
    "print(f\"Existem {len(df['SE_IS'].value_counts())} variáveis diferentes e {df['SE_IS'].isnull().sum()} valores nulos.\")"
   ]
  },
  {
   "cell_type": "markdown",
   "id": "4bed8b58-8302-453d-8f49-f5d0758794f2",
   "metadata": {},
   "source": [
    "Dado a existência de uma grande quantidade de variáveis, faz mais sentido preencher os valores nulos com medidas centrais."
   ]
  },
  {
   "cell_type": "code",
   "execution_count": 27,
   "id": "02048668-6673-4b2e-9650-6496726d4cb7",
   "metadata": {},
   "outputs": [
    {
     "data": {
      "image/png": "[encoded data removed]",
      "text/plain": [
       "<Figure size 600x400 with 1 Axes>"
      ]
     },
     "metadata": {},
     "output_type": "display_data"
    }
   ],
   "source": [
    "#Excluindo nulos em DataFrame teste para analisar boxplot\n",
    "df_boxplot = df.dropna(subset=['SE_IS'])\n",
    "\n",
    "# Plotando o gráfico boxplot\n",
    "plt.figure(figsize=(6, 4))\n",
    "plt.boxplot([df_boxplot['SE_IS']])\n",
    "plt.scatter(1, df_boxplot['SE_IS'].mean(), color='red', marker='o', s=25)\n",
    "plt.tick_params(axis='x', which='both', bottom=False, top=False, labelbottom=False)\n",
    "plt.title('SE_IS')\n",
    "plt.show()"
   ]
  },
  {
   "cell_type": "markdown",
   "id": "f39eb726-e7bd-44f0-95d9-0685e3226370",
   "metadata": {},
   "source": [
    "Analisando o gráfico, fica evidente que a alta quantidade de outliers está deslocando a média significativamente da região com uma maior densidade de dados. Logo, para este caso, os valores nulos serão substituídos pela mediana."
   ]
  },
  {
   "cell_type": "code",
   "execution_count": 28,
   "id": "592ac3fc-3862-4628-a8a9-098b7fbb0e19",
   "metadata": {},
   "outputs": [
    {
     "name": "stdout",
     "output_type": "stream",
     "text": [
      "Valores nulos: 0\n"
     ]
    }
   ],
   "source": [
    "# Substituindo nulos por mediana\n",
    "substituir_nulos_por_mediana_coluna(df, 'SE_IS')\n",
    "\n",
    "print('Valores nulos:', sum(df['SE_IS'].isnull()))"
   ]
  },
  {
   "cell_type": "markdown",
   "id": "6f712e58-e584-4395-9e33-adb722269c21",
   "metadata": {},
   "source": [
    "## MES_IS\n",
    "\n",
    "A coluna 'MES_IS' é numérica, e o único problema que ela apresenta são seus valores nulos."
   ]
  },
  {
   "cell_type": "code",
   "execution_count": 29,
   "id": "d43552b2-3247-4c7a-998a-18ba39d5cef8",
   "metadata": {},
   "outputs": [
    {
     "name": "stdout",
     "output_type": "stream",
     "text": [
      "Existem 12 variáveis diferentes e 11 valores nulos.\n"
     ]
    }
   ],
   "source": [
    "print(f\"Existem {len(df['MES_IS'].value_counts())} variáveis diferentes e {df['MES_IS'].isnull().sum()} valores nulos.\")"
   ]
  },
  {
   "cell_type": "code",
   "execution_count": 30,
   "id": "915c7395-0233-4b94-9319-99b75d67d395",
   "metadata": {},
   "outputs": [
    {
     "name": "stdout",
     "output_type": "stream",
     "text": [
      "- A variável 1.0 representa 46.60% do total.\n",
      "- A variável 2.0 representa 22.35% do total.\n",
      "- A variável 3.0 representa 14.27% do total.\n",
      "- A variável 4.0 representa 6.63% do total.\n",
      "- A variável 12.0 representa 5.93% do total.\n",
      "- A variável 5.0 representa 1.78% do total.\n",
      "- A variável 6.0 representa 0.91% do total.\n",
      "- A variável 7.0 representa 0.40% do total.\n",
      "- A variável 11.0 representa 0.36% do total.\n",
      "- A variável 9.0 representa 0.33% do total.\n",
      "[...]\n"
     ]
    }
   ],
   "source": [
    "# Ocorrências de meses\n",
    "t_ocorrencia(df['MES_IS'])"
   ]
  },
  {
   "cell_type": "markdown",
   "id": "60672236-817f-4767-976d-ad2e799fe181",
   "metadata": {},
   "source": [
    "O mês 1 aparece com uma frequência muito alta, logo, faz mais sentido atribuir os valores nulos a ele."
   ]
  },
  {
   "cell_type": "code",
   "execution_count": 31,
   "id": "5f9d8d06-26ab-4473-b671-5495a6ff4886",
   "metadata": {},
   "outputs": [
    {
     "name": "stdout",
     "output_type": "stream",
     "text": [
      "Valores nulos: 0\n"
     ]
    }
   ],
   "source": [
    "# Transformando valores nulos em 1, que representa o mês de janeiro\n",
    "df.loc[df['MES_IS'].isna(), 'MES_IS'] = 1.0\n",
    "\n",
    "print('Valores nulos:', sum(df['MES_IS'].isnull()))"
   ]
  },
  {
   "cell_type": "markdown",
   "id": "0b4f2b3f-23b2-443c-b3ba-d20da818bb95",
   "metadata": {},
   "source": [
    "### 'ANO_IS' e 'MONITORAMENTO_IS'\n",
    "As colunas 'ANO_IS' e 'MONITORAMENTO_IS' representam objetivamente a mesma coisa, logo, por a coluna 'ANO_IS' já ser numérica, a coluna 'MONITORAMENTO_IS' será excluída."
   ]
  },
  {
   "cell_type": "code",
   "execution_count": 32,
   "id": "d82d1c5a-c274-4cfc-ad09-1888787f41fa",
   "metadata": {},
   "outputs": [
    {
     "data": {
      "text/html": [
       "<div>\n",
       "<style scoped>\n",
       "    .dataframe tbody tr th:only-of-type {\n",
       "        vertical-align: middle;\n",
       "    }\n",
       "\n",
       "    .dataframe tbody tr th {\n",
       "        vertical-align: top;\n",
       "    }\n",
       "\n",
       "    .dataframe thead th {\n",
       "        text-align: right;\n",
       "    }\n",
       "</style>\n",
       "<table border=\"1\" class=\"dataframe\">\n",
       "  <thead>\n",
       "    <tr style=\"text-align: right;\">\n",
       "      <th></th>\n",
       "      <th>UF_LPI</th>\n",
       "      <th>MUN_LPI</th>\n",
       "      <th>IDADE</th>\n",
       "      <th>SE_IS</th>\n",
       "      <th>MES_IS</th>\n",
       "      <th>ANO_IS</th>\n",
       "      <th>OBITO</th>\n",
       "      <th>MACRORREG_LPI_SE</th>\n",
       "      <th>SEXO_M</th>\n",
       "    </tr>\n",
       "  </thead>\n",
       "  <tbody>\n",
       "    <tr>\n",
       "      <th>0</th>\n",
       "      <td>0.147933</td>\n",
       "      <td>0.002175</td>\n",
       "      <td>42.61543</td>\n",
       "      <td>48.0</td>\n",
       "      <td>11.0</td>\n",
       "      <td>1994</td>\n",
       "      <td>SIM</td>\n",
       "      <td>0</td>\n",
       "      <td>1</td>\n",
       "    </tr>\n",
       "    <tr>\n",
       "      <th>1</th>\n",
       "      <td>0.147933</td>\n",
       "      <td>0.000363</td>\n",
       "      <td>19.00000</td>\n",
       "      <td>8.0</td>\n",
       "      <td>2.0</td>\n",
       "      <td>1995</td>\n",
       "      <td>NÃO</td>\n",
       "      <td>0</td>\n",
       "      <td>1</td>\n",
       "    </tr>\n",
       "    <tr>\n",
       "      <th>2</th>\n",
       "      <td>0.147933</td>\n",
       "      <td>0.000725</td>\n",
       "      <td>32.00000</td>\n",
       "      <td>13.0</td>\n",
       "      <td>4.0</td>\n",
       "      <td>1995</td>\n",
       "      <td>IGN</td>\n",
       "      <td>0</td>\n",
       "      <td>1</td>\n",
       "    </tr>\n",
       "  </tbody>\n",
       "</table>\n",
       "</div>"
      ],
      "text/plain": [
       "     UF_LPI   MUN_LPI     IDADE  SE_IS  MES_IS  ANO_IS OBITO  \\\n",
       "0  0.147933  0.002175  42.61543   48.0    11.0    1994   SIM   \n",
       "1  0.147933  0.000363  19.00000    8.0     2.0    1995   NÃO   \n",
       "2  0.147933  0.000725  32.00000   13.0     4.0    1995   IGN   \n",
       "\n",
       "   MACRORREG_LPI_SE  SEXO_M  \n",
       "0                 0       1  \n",
       "1                 0       1  \n",
       "2                 0       1  "
      ]
     },
     "execution_count": 32,
     "metadata": {},
     "output_type": "execute_result"
    }
   ],
   "source": [
    "df = df.drop('MONITORAMENTO_IS', axis=1)\n",
    "\n",
    "df.head(3)"
   ]
  },
  {
   "cell_type": "markdown",
   "id": "6594ed50",
   "metadata": {},
   "source": [
    "### 'OBITO'\n",
    "\n",
    "Esta é a coluna que se pretende prever, por isso, ela será dividida em duas, as que possuem uma resposta, e as que as respostas foram ignoradas. Por fim, as que possuíram respostas serão usadas para prever com base nas características das outras colunas se o indivíduo morreu ou não."
   ]
  },
  {
   "cell_type": "code",
   "execution_count": 33,
   "id": "616802de-faec-4814-9a26-7a9f90747a82",
   "metadata": {},
   "outputs": [],
   "source": [
    "# DataFrame para treino\n",
    "df_treino = df[df['OBITO'] != 'IGN']\n",
    "df_treino = coluna_letras_para_binario(df_treino, 'OBITO')\n",
    "\n",
    "# DataFrame que se pretende prever\n",
    "df_predicao = df[df['OBITO'] == 'IGN']\n",
    "df_predicao = coluna_letras_para_binario(df_predicao, 'OBITO')"
   ]
  },
  {
   "cell_type": "markdown",
   "id": "cfb174bb-a663-464f-b352-d481a56633dc",
   "metadata": {},
   "source": [
    "### Normalizando colunas\n",
    "\n",
    "Com os dois DataFrames definidos, agora basta normalizar as colunas para que eles fiquem na mesma escala."
   ]
  },
  {
   "cell_type": "code",
   "execution_count": 34,
   "id": "04a2e2de-af6e-44c4-8751-48701a420c3a",
   "metadata": {},
   "outputs": [],
   "source": [
    "from sklearn.preprocessing import MinMaxScaler\n",
    "\n",
    "# Inicializa o scaler\n",
    "scaler = MinMaxScaler()\n",
    "\n",
    "# Normalizando as colunas do DataFrame\n",
    "for coluna in df_treino.columns:\n",
    "    df_treino[coluna] = scaler.fit_transform(df_treino[[coluna]])\n",
    "\n",
    "    if coluna != 'OBITO_SIM':\n",
    "        df_predicao[coluna] = scaler.fit_transform(df_predicao[[coluna]])"
   ]
  },
  {
   "cell_type": "markdown",
   "id": "5ef5def5-ab98-4a76-9d59-868175c52e83",
   "metadata": {},
   "source": [
    "# Predição"
   ]
  },
  {
   "cell_type": "markdown",
   "id": "74c50d16",
   "metadata": {},
   "source": [
    "### Testando acurácia para diferentes agrupamentos\n",
    "\n",
    "Para escolher o melhor modelo de acordo com o melhor agrupamento de dados, serão feitos testes que vão de 2 a 20 grupos para todos os métodos de predição, e o modelo com número de agrupamento que possuir a melhor acurácia será o escolhido."
   ]
  },
  {
   "cell_type": "code",
   "execution_count": 35,
   "id": "198509b5-3fad-426d-a5b8-806da04709d9",
   "metadata": {},
   "outputs": [
    {
     "name": "stdout",
     "output_type": "stream",
     "text": [
      "|Agmts.\t|Melhor Modelo\t\t\t|Acrc.\t|\n",
      "|2\t|HistGradientBoostingClassifier\t|0.6729\t|\n",
      "|3\t|GradientBoostingClassifier\t|0.6667\t|\n",
      "|4\t|HistGradientBoostingClassifier\t|0.6654\t|\n",
      "|5\t|HistGradientBoostingClassifier\t|0.6891\t|\n",
      "|6\t|HistGradientBoostingClassifier\t|0.6754\t|\n",
      "|7\t|HistGradientBoostingClassifier\t|0.6717\t|\n",
      "|8\t|HistGradientBoostingClassifier\t|0.6667\t|\n",
      "|9\t|GradientBoostingClassifier\t|0.6642\t|\n",
      "|10\t|RadiusNeighborsClassifier\t|0.6679\t|\n",
      "|11\t|RadiusNeighborsClassifier\t|0.6679\t|\n"
     ]
    }
   ],
   "source": [
    "import warnings\n",
    "from sklearn.model_selection import train_test_split\n",
    "from sklearn.metrics import accuracy_score\n",
    "from sklearn.exceptions import ConvergenceWarning\n",
    "from sklearn.gaussian_process import GaussianProcessClassifier\n",
    "from sklearn.neural_network import MLPClassifier\n",
    "from sklearn.calibration import CalibratedClassifierCV\n",
    "from sklearn.dummy import DummyClassifier\n",
    "\n",
    "from sklearn.ensemble import (GradientBoostingClassifier, \n",
    "                              BaggingClassifier, \n",
    "                              AdaBoostClassifier, \n",
    "                              ExtraTreesClassifier, \n",
    "                              RandomForestClassifier, \n",
    "                              HistGradientBoostingClassifier)\n",
    "\n",
    "from sklearn.naive_bayes import (BernoulliNB, \n",
    "                                 CategoricalNB, \n",
    "                                 ComplementNB, \n",
    "                                 GaussianNB, \n",
    "                                 MultinomialNB)\n",
    "\n",
    "from sklearn.discriminant_analysis import (LinearDiscriminantAnalysis, \n",
    "                                           QuadraticDiscriminantAnalysis)\n",
    "\n",
    "from sklearn.neighbors import (KNeighborsClassifier, \n",
    "                               NearestCentroid, \n",
    "                               RadiusNeighborsClassifier)\n",
    "\n",
    "from sklearn.svm import (SVC, \n",
    "                         NuSVC, \n",
    "                         LinearSVC)\n",
    "\n",
    "from sklearn.linear_model import (PassiveAggressiveClassifier, \n",
    "                                  Perceptron, \n",
    "                                  RidgeClassifier, \n",
    "                                  RidgeClassifierCV, \n",
    "                                  SGDClassifier)\n",
    "\n",
    "# Separando as variáveis independentes (X) da variável dependente (y)\n",
    "X = df_treino.drop('OBITO_SIM', axis=1)\n",
    "y = df_treino['OBITO_SIM']\n",
    "\n",
    "# Dividindo o conjunto de dados em treino e teste\n",
    "X_train, X_test, y_train, y_test = train_test_split(X, y, test_size=0.3, random_state=42)\n",
    "\n",
    "print('|Agmts.\\t|Melhor Modelo\\t\\t\\t|Acrc.\\t|')\n",
    "\n",
    "for i in range(2,12):\n",
    "\n",
    "    # Treinando o modelo KMeans apenas com as features de treino\n",
    "    kmeans = c_kmeans(i, X_train)\n",
    "    X_train_clusters = kmeans.fit_predict(X_train)\n",
    "\n",
    "    # Atribuindo os clusters aos dados de teste usando os centroids do modelo treinado\n",
    "    X_test_clusters = kmeans.predict(X_test)\n",
    "\n",
    "    # Adicionando as features de cluster ao conjunto de dados de treino e teste\n",
    "    X_train_clustered = pd.concat([X_train.reset_index(drop=True), pd.get_dummies(X_train_clusters, prefix='cluster')], axis=1)\n",
    "    X_test_clustered = pd.concat([X_test.reset_index(drop=True), pd.get_dummies(X_test_clusters, prefix='cluster')], axis=1)\n",
    "\n",
    "    # Treinando e avaliando modelos\n",
    "    models = {    \n",
    "        'GradientBoostingClassifier': GradientBoostingClassifier(random_state=42),\n",
    "        'AdaBoostClassifier': AdaBoostClassifier(random_state=42),\n",
    "        'BaggingClassifier': BaggingClassifier(random_state=42),\n",
    "        'ExtraTreesClassifier': ExtraTreesClassifier(random_state=42),\n",
    "        'RandomForestClassifier': RandomForestClassifier(random_state=42),\n",
    "        'HistGradientBoostingClassifier': HistGradientBoostingClassifier(random_state=42),\n",
    "        'BernoulliNB': BernoulliNB(),\n",
    "        'CategoricalNB': CategoricalNB(),\n",
    "        'ComplementNB': ComplementNB(),\n",
    "        'GaussianNB': GaussianNB(),\n",
    "        'MultinomialNB': MultinomialNB(),\n",
    "        'CalibratedClassifierCV': CalibratedClassifierCV(),\n",
    "        'LinearDiscriminantAnalysis': LinearDiscriminantAnalysis(),\n",
    "        'QuadraticDiscriminantAnalysis': QuadraticDiscriminantAnalysis(),\n",
    "        'KNeighborsClassifier': KNeighborsClassifier(),\n",
    "        'NearestCentroid': NearestCentroid(),\n",
    "        'RadiusNeighborsClassifier': RadiusNeighborsClassifier(),\n",
    "        'SVC': SVC(),\n",
    "        'NuSVC': NuSVC(),\n",
    "        'LinearSVC': LinearSVC(),\n",
    "        'GaussianProcessClassifier': GaussianProcessClassifier(),\n",
    "        'MLPClassifier': MLPClassifier(random_state=42),\n",
    "        'PassiveAggressiveClassifier': PassiveAggressiveClassifier(random_state=42),\n",
    "        'Perceptron': Perceptron(random_state=42),\n",
    "        'RidgeClassifier': RidgeClassifier(random_state=42),\n",
    "        'RidgeClassifierCV': RidgeClassifierCV(),\n",
    "        'SGDClassifier': SGDClassifier(random_state=42),\n",
    "        'DummyClassifier': DummyClassifier(),\n",
    "    }\n",
    "\n",
    "    melhor_modelo = ''\n",
    "    melhor_acuracia = 0.0\n",
    "\n",
    "    for name, model in models.items():\n",
    "\n",
    "        # Ignorando avisos        \n",
    "        warnings.filterwarnings(\"ignore\", category=FutureWarning, message=\"The SAMME.R algorithm*\")\n",
    "        warnings.filterwarnings(\"ignore\", category=FutureWarning, message=\"The default value of `dual` will change*\")\n",
    "        warnings.filterwarnings(\"ignore\", category=UserWarning, message=\"Variables are collinear*\")\n",
    "        warnings.filterwarnings(\"ignore\", category=ConvergenceWarning, message=\"Stochastic Optimizer: Maximum iterations*\")\n",
    "        \n",
    "        try:\n",
    "            model.fit(X_train_clustered, y_train)\n",
    "            y_pred = model.predict(X_test_clustered)\n",
    "            accuracy = accuracy_score(y_test, y_pred)\n",
    "\n",
    "            if accuracy > melhor_acuracia:\n",
    "                melhor_acuracia = accuracy\n",
    "                melhor_modelo = name\n",
    "\n",
    "        except Exception as e:\n",
    "            pass\n",
    "        \n",
    "    print(f'|{i}\\t|{melhor_modelo}\\t|{melhor_acuracia:.4f}\\t|')"
   ]
  },
  {
   "cell_type": "markdown",
   "id": "6176cc43",
   "metadata": {},
   "source": [
    "### Treinando e realizando Predição\n",
    "\n",
    "Como pode ser visto, o modelo 'HistGradientBoostingClassifier' com 5 grupos foi o que obteve o melhor resultado, logo, será o utilizado."
   ]
  },
  {
   "cell_type": "code",
   "execution_count": 36,
   "id": "2b1360cc",
   "metadata": {},
   "outputs": [],
   "source": [
    "# Separando as variáveis independentes (X) da variável dependente (y) do modelo de treino\n",
    "X_train = df_treino.drop('OBITO_SIM', axis=1)\n",
    "y_train = df_treino['OBITO_SIM']\n",
    "\n",
    "# Definindo variáveis independentes (X) do modelo de predição\n",
    "X_predt = df_predicao\n",
    "\n",
    "# Treinando o modelo KMeans\n",
    "kmeans = c_kmeans(5, X_train)\n",
    "X_train_clusters = kmeans.fit_predict(X_train)\n",
    "X_predt_clusters = kmeans.fit_predict(X_predt)\n",
    "\n",
    "# Adicionando as features de cluster ao conjunto de dados de treino e teste\n",
    "X_train_clustered = pd.concat([X_train.reset_index(drop=True), pd.get_dummies(X_train_clusters, prefix='cluster')], axis=1)\n",
    "X_predt_clustered = pd.concat([X_predt.reset_index(drop=True), pd.get_dummies(X_predt_clusters, prefix='cluster')], axis=1)\n",
    "\n",
    "# Treinando modelos\n",
    "models = {'HistGradientBoostingClassifier': HistGradientBoostingClassifier(random_state=42),}\n",
    "model.fit(X_train_clustered, y)\n",
    "y_pred = model.predict(X_predt_clustered)\n",
    "\n",
    "# Adicionando valores preditos ao DataFrame de predição\n",
    "df_predicao['OBITO_SIM'] = y_pred"
   ]
  },
  {
   "cell_type": "markdown",
   "id": "211a7ead",
   "metadata": {},
   "source": [
    "Por fim, basta obter o DataFrame final, com todos os dados prontos."
   ]
  },
  {
   "cell_type": "code",
   "execution_count": 37,
   "id": "fb2de3fa",
   "metadata": {},
   "outputs": [
    {
     "data": {
      "text/html": [
       "<div>\n",
       "<style scoped>\n",
       "    .dataframe tbody tr th:only-of-type {\n",
       "        vertical-align: middle;\n",
       "    }\n",
       "\n",
       "    .dataframe tbody tr th {\n",
       "        vertical-align: top;\n",
       "    }\n",
       "\n",
       "    .dataframe thead th {\n",
       "        text-align: right;\n",
       "    }\n",
       "</style>\n",
       "<table border=\"1\" class=\"dataframe\">\n",
       "  <thead>\n",
       "    <tr style=\"text-align: right;\">\n",
       "      <th></th>\n",
       "      <th>ID</th>\n",
       "      <th>MACRORREG_LPI</th>\n",
       "      <th>COD_UF_LPI</th>\n",
       "      <th>UF_LPI</th>\n",
       "      <th>COD_MUN_LPI</th>\n",
       "      <th>MUN_LPI</th>\n",
       "      <th>SEXO</th>\n",
       "      <th>IDADE</th>\n",
       "      <th>DT_IS</th>\n",
       "      <th>SE_IS</th>\n",
       "      <th>MES_IS</th>\n",
       "      <th>ANO_IS</th>\n",
       "      <th>MONITORAMENTO_IS</th>\n",
       "      <th>OBITO</th>\n",
       "    </tr>\n",
       "  </thead>\n",
       "  <tbody>\n",
       "    <tr>\n",
       "      <th>0</th>\n",
       "      <td>1</td>\n",
       "      <td>N</td>\n",
       "      <td>14</td>\n",
       "      <td>RR</td>\n",
       "      <td>140005.0</td>\n",
       "      <td>Alto Alegre</td>\n",
       "      <td>M</td>\n",
       "      <td>NaN</td>\n",
       "      <td>29/11/1994</td>\n",
       "      <td>48.0</td>\n",
       "      <td>11.0</td>\n",
       "      <td>1994</td>\n",
       "      <td>1994/1995</td>\n",
       "      <td>Sim</td>\n",
       "    </tr>\n",
       "    <tr>\n",
       "      <th>1</th>\n",
       "      <td>2</td>\n",
       "      <td>N</td>\n",
       "      <td>14</td>\n",
       "      <td>RR</td>\n",
       "      <td>140045.0</td>\n",
       "      <td>Pacaraima</td>\n",
       "      <td>M</td>\n",
       "      <td>19</td>\n",
       "      <td>19/02/1995</td>\n",
       "      <td>8.0</td>\n",
       "      <td>2.0</td>\n",
       "      <td>1995</td>\n",
       "      <td>1994/1995</td>\n",
       "      <td>Não</td>\n",
       "    </tr>\n",
       "    <tr>\n",
       "      <th>2</th>\n",
       "      <td>3</td>\n",
       "      <td>NE</td>\n",
       "      <td>21</td>\n",
       "      <td>MA</td>\n",
       "      <td>210060.0</td>\n",
       "      <td>Amarante do Maranhão</td>\n",
       "      <td>M</td>\n",
       "      <td>32</td>\n",
       "      <td>01/04/1995</td>\n",
       "      <td>13.0</td>\n",
       "      <td>4.0</td>\n",
       "      <td>1995</td>\n",
       "      <td>1994/1995</td>\n",
       "      <td>Não</td>\n",
       "    </tr>\n",
       "    <tr>\n",
       "      <th>3</th>\n",
       "      <td>4</td>\n",
       "      <td>NE</td>\n",
       "      <td>21</td>\n",
       "      <td>MA</td>\n",
       "      <td>210060.0</td>\n",
       "      <td>Amarante do Maranhão</td>\n",
       "      <td>M</td>\n",
       "      <td>33</td>\n",
       "      <td>03/04/1995</td>\n",
       "      <td>14.0</td>\n",
       "      <td>4.0</td>\n",
       "      <td>1995</td>\n",
       "      <td>1994/1995</td>\n",
       "      <td>Sim</td>\n",
       "    </tr>\n",
       "    <tr>\n",
       "      <th>4</th>\n",
       "      <td>5</td>\n",
       "      <td>N</td>\n",
       "      <td>15</td>\n",
       "      <td>PA</td>\n",
       "      <td>150270.0</td>\n",
       "      <td>Conceição do Araguaia</td>\n",
       "      <td>M</td>\n",
       "      <td>26</td>\n",
       "      <td>12/04/1995</td>\n",
       "      <td>15.0</td>\n",
       "      <td>4.0</td>\n",
       "      <td>1995</td>\n",
       "      <td>1994/1995</td>\n",
       "      <td>Sim</td>\n",
       "    </tr>\n",
       "    <tr>\n",
       "      <th>...</th>\n",
       "      <td>...</td>\n",
       "      <td>...</td>\n",
       "      <td>...</td>\n",
       "      <td>...</td>\n",
       "      <td>...</td>\n",
       "      <td>...</td>\n",
       "      <td>...</td>\n",
       "      <td>...</td>\n",
       "      <td>...</td>\n",
       "      <td>...</td>\n",
       "      <td>...</td>\n",
       "      <td>...</td>\n",
       "      <td>...</td>\n",
       "      <td>...</td>\n",
       "    </tr>\n",
       "    <tr>\n",
       "      <th>2753</th>\n",
       "      <td>2754</td>\n",
       "      <td>S</td>\n",
       "      <td>42</td>\n",
       "      <td>SC</td>\n",
       "      <td>420060.0</td>\n",
       "      <td>ÁGUAS MORNAS</td>\n",
       "      <td>M</td>\n",
       "      <td>34</td>\n",
       "      <td>19/03/2021</td>\n",
       "      <td>11.0</td>\n",
       "      <td>3.0</td>\n",
       "      <td>2021</td>\n",
       "      <td>2020/2021</td>\n",
       "      <td>Sim</td>\n",
       "    </tr>\n",
       "    <tr>\n",
       "      <th>2754</th>\n",
       "      <td>2755</td>\n",
       "      <td>S</td>\n",
       "      <td>42</td>\n",
       "      <td>SC</td>\n",
       "      <td>421780.0</td>\n",
       "      <td>TAIÓ</td>\n",
       "      <td>F</td>\n",
       "      <td>40</td>\n",
       "      <td>06/01/2021</td>\n",
       "      <td>1.0</td>\n",
       "      <td>1.0</td>\n",
       "      <td>2021</td>\n",
       "      <td>2020/2021</td>\n",
       "      <td>Não</td>\n",
       "    </tr>\n",
       "    <tr>\n",
       "      <th>2755</th>\n",
       "      <td>2756</td>\n",
       "      <td>N</td>\n",
       "      <td>15</td>\n",
       "      <td>PA</td>\n",
       "      <td>150030.0</td>\n",
       "      <td>AFUÁ</td>\n",
       "      <td>M</td>\n",
       "      <td>18</td>\n",
       "      <td>19/05/2021</td>\n",
       "      <td>20.0</td>\n",
       "      <td>5.0</td>\n",
       "      <td>2021</td>\n",
       "      <td>2020/2021</td>\n",
       "      <td>Não</td>\n",
       "    </tr>\n",
       "    <tr>\n",
       "      <th>2756</th>\n",
       "      <td>2757</td>\n",
       "      <td>N</td>\n",
       "      <td>15</td>\n",
       "      <td>PA</td>\n",
       "      <td>150030.0</td>\n",
       "      <td>AFUÁ</td>\n",
       "      <td>M</td>\n",
       "      <td>21</td>\n",
       "      <td>07/07/2021</td>\n",
       "      <td>27.0</td>\n",
       "      <td>7.0</td>\n",
       "      <td>2021</td>\n",
       "      <td>2021/2022</td>\n",
       "      <td>Sim</td>\n",
       "    </tr>\n",
       "    <tr>\n",
       "      <th>2757</th>\n",
       "      <td>2758</td>\n",
       "      <td>N</td>\n",
       "      <td>15</td>\n",
       "      <td>PA</td>\n",
       "      <td>150520.0</td>\n",
       "      <td>OEIRAS DO PARÁ</td>\n",
       "      <td>M</td>\n",
       "      <td>26</td>\n",
       "      <td>09/12/2021</td>\n",
       "      <td>49.0</td>\n",
       "      <td>12.0</td>\n",
       "      <td>2021</td>\n",
       "      <td>2021/2022</td>\n",
       "      <td>Sim</td>\n",
       "    </tr>\n",
       "  </tbody>\n",
       "</table>\n",
       "<p>2758 rows × 14 columns</p>\n",
       "</div>"
      ],
      "text/plain": [
       "        ID MACRORREG_LPI  COD_UF_LPI UF_LPI  COD_MUN_LPI  \\\n",
       "0        1             N          14     RR     140005.0   \n",
       "1        2             N          14     RR     140045.0   \n",
       "2        3            NE          21     MA     210060.0   \n",
       "3        4            NE          21     MA     210060.0   \n",
       "4        5             N          15     PA     150270.0   \n",
       "...    ...           ...         ...    ...          ...   \n",
       "2753  2754             S          42     SC     420060.0   \n",
       "2754  2755             S          42     SC     421780.0   \n",
       "2755  2756             N          15     PA     150030.0   \n",
       "2756  2757             N          15     PA     150030.0   \n",
       "2757  2758             N          15     PA     150520.0   \n",
       "\n",
       "                    MUN_LPI SEXO IDADE       DT_IS  SE_IS  MES_IS  ANO_IS  \\\n",
       "0               Alto Alegre    M   NaN  29/11/1994   48.0    11.0    1994   \n",
       "1                 Pacaraima    M    19  19/02/1995    8.0     2.0    1995   \n",
       "2      Amarante do Maranhão    M    32  01/04/1995   13.0     4.0    1995   \n",
       "3      Amarante do Maranhão    M    33  03/04/1995   14.0     4.0    1995   \n",
       "4     Conceição do Araguaia    M    26  12/04/1995   15.0     4.0    1995   \n",
       "...                     ...  ...   ...         ...    ...     ...     ...   \n",
       "2753           ÁGUAS MORNAS    M    34  19/03/2021   11.0     3.0    2021   \n",
       "2754                   TAIÓ    F    40  06/01/2021    1.0     1.0    2021   \n",
       "2755                   AFUÁ    M    18  19/05/2021   20.0     5.0    2021   \n",
       "2756                   AFUÁ    M    21  07/07/2021   27.0     7.0    2021   \n",
       "2757         OEIRAS DO PARÁ    M    26  09/12/2021   49.0    12.0    2021   \n",
       "\n",
       "     MONITORAMENTO_IS OBITO  \n",
       "0           1994/1995   Sim  \n",
       "1           1994/1995   Não  \n",
       "2           1994/1995   Não  \n",
       "3           1994/1995   Sim  \n",
       "4           1994/1995   Sim  \n",
       "...               ...   ...  \n",
       "2753        2020/2021   Sim  \n",
       "2754        2020/2021   Não  \n",
       "2755        2020/2021   Não  \n",
       "2756        2021/2022   Sim  \n",
       "2757        2021/2022   Sim  \n",
       "\n",
       "[2758 rows x 14 columns]"
      ]
     },
     "execution_count": 37,
     "metadata": {},
     "output_type": "execute_result"
    }
   ],
   "source": [
    "# Adicionando resultados à coluna 'OBITO'\n",
    "df_final.loc[df_final.index.intersection(df_treino.index), 'OBITO'] = df_treino['OBITO_SIM']\n",
    "df_final.loc[df_final.index.intersection(df_predicao.index), 'OBITO'] = df_predicao['OBITO_SIM']\n",
    "\n",
    "# Convertendo resultados\n",
    "df_final['OBITO'] = df_final['OBITO'].map({0.0: 'Não', 1.0: 'Sim'})\n",
    "\n",
    "# Exportando arquivo para .CSV\n",
    "df_final.to_csv('output.csv', index=False)\n",
    "\n",
    "df_final"
   ]
  }
 ],
 "metadata": {
  "kernelspec": {
   "display_name": "Python 3 (ipykernel)",
   "language": "python",
   "name": "python3"
  },
  "language_info": {
   "codemirror_mode": {
    "name": "ipython",
    "version": 3
   },
   "file_extension": ".py",
   "mimetype": "text/x-python",
   "name": "python",
   "nbconvert_exporter": "python",
   "pygments_lexer": "ipython3",
   "version": "3.10.12"
  }
 },
 "nbformat": 4,
 "nbformat_minor": 5
}
