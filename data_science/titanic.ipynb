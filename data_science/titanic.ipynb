{
 "cells": [
  {
   "cell_type": "markdown",
   "id": "856ee53e",
   "metadata": {},
   "source": [
    "### Configuração de dados"
   ]
  },
  {
   "cell_type": "code",
   "execution_count": 1,
   "id": "f9594ab9",
   "metadata": {},
   "outputs": [],
   "source": [
    "import pandas as pd\n",
    "import matplotlib.pyplot as plt\n",
    "import seaborn as sns\n",
    "\n",
    "test = pd.read_csv('test.csv')\n",
    "train = pd.read_csv('train.csv')\n",
    "gender_submission = pd.read_csv('gender_submission.csv')"
   ]
  },
  {
   "cell_type": "code",
   "execution_count": 2,
   "id": "13b21abc",
   "metadata": {},
   "outputs": [],
   "source": [
    "# Função para promover agilidade em analises.\n",
    "\n",
    "def analise(coluna):\n",
    "    \n",
    "    # Transformando lista de constantes únicas e suas quantidades em string.\n",
    "    \n",
    "    constantes_unicas = ''\n",
    "    \n",
    "    for i in range(len(list(coluna.value_counts()))):          \n",
    "        if   (i == 0):\n",
    "            constantes_unicas += str(list(coluna.value_counts())[i]) + ' \"' + str(list(coluna.value_counts().index)[i]) + '\",'\n",
    "            \n",
    "        elif (i == len(coluna.unique()) - 1):\n",
    "            constantes_unicas += ' ' + str(list(coluna.value_counts())[i]) + ' \"' + str(list(coluna.value_counts().index)[i]) + '\"'\n",
    "            \n",
    "        else:\n",
    "            constantes_unicas += ' ' + str(list(coluna.value_counts())[i]) + ' \"' + str(list(coluna.value_counts().index)[i]) + '\",'\n",
    "    \n",
    "    # Análise dos dados\n",
    "    \n",
    "    print(f'Existem {coluna.nunique()} constantes únicas que são {constantes_unicas} e {coluna.isna().sum()} dados faltantes.')"
   ]
  },
  {
   "cell_type": "code",
   "execution_count": 3,
   "id": "bf887209",
   "metadata": {},
   "outputs": [
    {
     "data": {
      "text/html": [
       "<div>\n",
       "<style scoped>\n",
       "    .dataframe tbody tr th:only-of-type {\n",
       "        vertical-align: middle;\n",
       "    }\n",
       "\n",
       "    .dataframe tbody tr th {\n",
       "        vertical-align: top;\n",
       "    }\n",
       "\n",
       "    .dataframe thead th {\n",
       "        text-align: right;\n",
       "    }\n",
       "</style>\n",
       "<table border=\"1\" class=\"dataframe\">\n",
       "  <thead>\n",
       "    <tr style=\"text-align: right;\">\n",
       "      <th></th>\n",
       "      <th>PassengerId</th>\n",
       "      <th>Pclass</th>\n",
       "      <th>Name</th>\n",
       "      <th>Sex</th>\n",
       "      <th>Age</th>\n",
       "      <th>SibSp</th>\n",
       "      <th>Parch</th>\n",
       "      <th>Ticket</th>\n",
       "      <th>Fare</th>\n",
       "      <th>Cabin</th>\n",
       "      <th>Embarked</th>\n",
       "      <th>Modify</th>\n",
       "      <th>Survived</th>\n",
       "    </tr>\n",
       "  </thead>\n",
       "  <tbody>\n",
       "    <tr>\n",
       "      <th>0</th>\n",
       "      <td>892</td>\n",
       "      <td>3</td>\n",
       "      <td>Kelly, Mr. James</td>\n",
       "      <td>male</td>\n",
       "      <td>34.5</td>\n",
       "      <td>0</td>\n",
       "      <td>0</td>\n",
       "      <td>330911</td>\n",
       "      <td>7.8292</td>\n",
       "      <td>NaN</td>\n",
       "      <td>Q</td>\n",
       "      <td>test</td>\n",
       "      <td>NaN</td>\n",
       "    </tr>\n",
       "    <tr>\n",
       "      <th>1</th>\n",
       "      <td>893</td>\n",
       "      <td>3</td>\n",
       "      <td>Wilkes, Mrs. James (Ellen Needs)</td>\n",
       "      <td>female</td>\n",
       "      <td>47.0</td>\n",
       "      <td>1</td>\n",
       "      <td>0</td>\n",
       "      <td>363272</td>\n",
       "      <td>7.0000</td>\n",
       "      <td>NaN</td>\n",
       "      <td>S</td>\n",
       "      <td>test</td>\n",
       "      <td>NaN</td>\n",
       "    </tr>\n",
       "    <tr>\n",
       "      <th>2</th>\n",
       "      <td>894</td>\n",
       "      <td>2</td>\n",
       "      <td>Myles, Mr. Thomas Francis</td>\n",
       "      <td>male</td>\n",
       "      <td>62.0</td>\n",
       "      <td>0</td>\n",
       "      <td>0</td>\n",
       "      <td>240276</td>\n",
       "      <td>9.6875</td>\n",
       "      <td>NaN</td>\n",
       "      <td>Q</td>\n",
       "      <td>test</td>\n",
       "      <td>NaN</td>\n",
       "    </tr>\n",
       "    <tr>\n",
       "      <th>3</th>\n",
       "      <td>895</td>\n",
       "      <td>3</td>\n",
       "      <td>Wirz, Mr. Albert</td>\n",
       "      <td>male</td>\n",
       "      <td>27.0</td>\n",
       "      <td>0</td>\n",
       "      <td>0</td>\n",
       "      <td>315154</td>\n",
       "      <td>8.6625</td>\n",
       "      <td>NaN</td>\n",
       "      <td>S</td>\n",
       "      <td>test</td>\n",
       "      <td>NaN</td>\n",
       "    </tr>\n",
       "    <tr>\n",
       "      <th>4</th>\n",
       "      <td>896</td>\n",
       "      <td>3</td>\n",
       "      <td>Hirvonen, Mrs. Alexander (Helga E Lindqvist)</td>\n",
       "      <td>female</td>\n",
       "      <td>22.0</td>\n",
       "      <td>1</td>\n",
       "      <td>1</td>\n",
       "      <td>3101298</td>\n",
       "      <td>12.2875</td>\n",
       "      <td>NaN</td>\n",
       "      <td>S</td>\n",
       "      <td>test</td>\n",
       "      <td>NaN</td>\n",
       "    </tr>\n",
       "  </tbody>\n",
       "</table>\n",
       "</div>"
      ],
      "text/plain": [
       "   PassengerId  Pclass                                          Name     Sex  \\\n",
       "0          892       3                              Kelly, Mr. James    male   \n",
       "1          893       3              Wilkes, Mrs. James (Ellen Needs)  female   \n",
       "2          894       2                     Myles, Mr. Thomas Francis    male   \n",
       "3          895       3                              Wirz, Mr. Albert    male   \n",
       "4          896       3  Hirvonen, Mrs. Alexander (Helga E Lindqvist)  female   \n",
       "\n",
       "    Age  SibSp  Parch   Ticket     Fare Cabin Embarked Modify  Survived  \n",
       "0  34.5      0      0   330911   7.8292   NaN        Q   test       NaN  \n",
       "1  47.0      1      0   363272   7.0000   NaN        S   test       NaN  \n",
       "2  62.0      0      0   240276   9.6875   NaN        Q   test       NaN  \n",
       "3  27.0      0      0   315154   8.6625   NaN        S   test       NaN  \n",
       "4  22.0      1      1  3101298  12.2875   NaN        S   test       NaN  "
      ]
     },
     "execution_count": 3,
     "metadata": {},
     "output_type": "execute_result"
    }
   ],
   "source": [
    "# Fazendo diferenciação e união de planilhas\n",
    "\n",
    "test['Modify'] = 'test'\n",
    "train['Modify'] = 'train'\n",
    "\n",
    "df_final = pd.DataFrame()\n",
    "\n",
    "df_create = pd.concat([test, train])\n",
    "\n",
    "df_create.head(5)"
   ]
  },
  {
   "cell_type": "markdown",
   "id": "9cdb0303",
   "metadata": {},
   "source": [
    "#### Passengerld"
   ]
  },
  {
   "cell_type": "markdown",
   "id": "0540be1d",
   "metadata": {},
   "source": [
    "A coluna \"Passengerld\" apenas escala de forma crescente, com o intervalo de 1 unidade. Logo, fica claro \n",
    "que a lógica dela não têm nenhuma interferência no comportamento de outras colunas, e conseguentemente\n",
    "também não influenciará na probabilidade do passageiro sobreviver ou não."
   ]
  },
  {
   "cell_type": "markdown",
   "id": "2ad5c51b",
   "metadata": {},
   "source": [
    "#### Pclass"
   ]
  },
  {
   "cell_type": "code",
   "execution_count": 4,
   "id": "82066604",
   "metadata": {},
   "outputs": [
    {
     "name": "stdout",
     "output_type": "stream",
     "text": [
      "Existem 3 constantes únicas que são 709 \"3\", 323 \"1\", 277 \"2\" e 0 dados faltantes.\n"
     ]
    }
   ],
   "source": [
    "analise(df_create['Pclass'])"
   ]
  },
  {
   "cell_type": "code",
   "execution_count": 5,
   "id": "462bb9ae",
   "metadata": {},
   "outputs": [
    {
     "data": {
      "text/html": [
       "<div>\n",
       "<style scoped>\n",
       "    .dataframe tbody tr th:only-of-type {\n",
       "        vertical-align: middle;\n",
       "    }\n",
       "\n",
       "    .dataframe tbody tr th {\n",
       "        vertical-align: top;\n",
       "    }\n",
       "\n",
       "    .dataframe thead th {\n",
       "        text-align: right;\n",
       "    }\n",
       "</style>\n",
       "<table border=\"1\" class=\"dataframe\">\n",
       "  <thead>\n",
       "    <tr style=\"text-align: right;\">\n",
       "      <th></th>\n",
       "      <th>Pclass_1</th>\n",
       "      <th>Pclass_2</th>\n",
       "      <th>Pclass_3</th>\n",
       "    </tr>\n",
       "  </thead>\n",
       "  <tbody>\n",
       "    <tr>\n",
       "      <th>0</th>\n",
       "      <td>0</td>\n",
       "      <td>0</td>\n",
       "      <td>1</td>\n",
       "    </tr>\n",
       "    <tr>\n",
       "      <th>1</th>\n",
       "      <td>0</td>\n",
       "      <td>0</td>\n",
       "      <td>1</td>\n",
       "    </tr>\n",
       "    <tr>\n",
       "      <th>2</th>\n",
       "      <td>0</td>\n",
       "      <td>1</td>\n",
       "      <td>0</td>\n",
       "    </tr>\n",
       "    <tr>\n",
       "      <th>3</th>\n",
       "      <td>0</td>\n",
       "      <td>0</td>\n",
       "      <td>1</td>\n",
       "    </tr>\n",
       "    <tr>\n",
       "      <th>4</th>\n",
       "      <td>0</td>\n",
       "      <td>0</td>\n",
       "      <td>1</td>\n",
       "    </tr>\n",
       "  </tbody>\n",
       "</table>\n",
       "</div>"
      ],
      "text/plain": [
       "   Pclass_1  Pclass_2  Pclass_3\n",
       "0         0         0         1\n",
       "1         0         0         1\n",
       "2         0         1         0\n",
       "3         0         0         1\n",
       "4         0         0         1"
      ]
     },
     "execution_count": 5,
     "metadata": {},
     "output_type": "execute_result"
    }
   ],
   "source": [
    "'''\n",
    "Analisando a coluna, é nítido e notório que ela não precisa de nenhum tratamento estatístico \n",
    "de dados visto que existem poucas variáveis, e não nenhum dado faltantes.\n",
    "'''\n",
    "\n",
    "# Transformação das variáveis de \"Pclass\" em multiplas colunas que representam de      forma \n",
    "# binária os dados de cada uma delas.\n",
    "\n",
    "Pclass = pd.get_dummies(df_create['Pclass'], prefix='Pclass')\n",
    "\n",
    "df_final = Pclass\n",
    "\n",
    "df_final.head(5)"
   ]
  },
  {
   "cell_type": "markdown",
   "id": "bc54aed3",
   "metadata": {},
   "source": [
    "#### Name"
   ]
  },
  {
   "cell_type": "code",
   "execution_count": 6,
   "id": "bbd2c0f9",
   "metadata": {},
   "outputs": [
    {
     "name": "stdout",
     "output_type": "stream",
     "text": [
      "Existem 18 constantes únicas que são 757 \"Mr\", 260 \"Miss\", 197 \"Mrs\", 61 \"Master\", 8 \"Rev\", 8 \"Dr\", 4 \"Col\", 2 \"Ms\", 2 \"Major\", 2 \"Mlle\", 1 \"Sir\", 1 \"the Countess\", 1 \"Capt\", 1 \"Don\", 1 \"Lady\", 1 \"Mme\", 1 \"Dona\", 1 \"Jonkheer\" e 0 dados faltantes.\n"
     ]
    }
   ],
   "source": [
    "'''\n",
    "Cada passageiro possui um nome diferente, logo, não faz sentido fazer uma análise geral   da \n",
    "coluna da forma que está. Porém, ao observar o nome dos passageiros nota-se que cada      um \n",
    "possui um pronome de tratamento, e estes tendem a se repetir. Então, faz mais        sentido \n",
    "classificar o nome dos passageiros com base neles, e aí sim fazer qualquer análise.\n",
    "'''\n",
    "\n",
    "# Separando pronomes de tratamento e transformando em coluna\n",
    "\n",
    "Name = []\n",
    "\n",
    "for i in df_create['Name']:\n",
    "    Name.append(i.split(', ')[1].split('.')[0])\n",
    "    \n",
    "df_create['Pronoun'] = Name\n",
    "\n",
    "analise(df_create['Pronoun'])"
   ]
  },
  {
   "cell_type": "code",
   "execution_count": 7,
   "id": "bdf7e33c",
   "metadata": {},
   "outputs": [
    {
     "data": {
      "text/plain": [
       "<Axes: xlabel='Pronoun', ylabel='count'>"
      ]
     },
     "execution_count": 7,
     "metadata": {},
     "output_type": "execute_result"
    },
    {
     "data": {
      "image/png": "[encoded data removed]",
      "text/plain": [
       "<Figure size 640x480 with 1 Axes>"
      ]
     },
     "metadata": {},
     "output_type": "display_data"
    }
   ],
   "source": [
    "'''\n",
    "Analisando os números, quatro pronomes de tratamento possuem a esmagadora maioria         de\n",
    "participação nos dados em comparação aos restantes. Essa afirmação pode ser           melhor\n",
    "visualizada em um gráfico de barras.\n",
    "'''\n",
    "# Plotando gráfico de barras de pronomes de tratamento\n",
    "\n",
    "colunas_de_pronomes = sns.set(font_scale=1)\n",
    "colunas_de_pronomes = sns.countplot(data=df_create, x='Pronoun')\n",
    "colunas_de_pronomes.set_xticklabels(colunas_de_pronomes.get_xticklabels(), rotation=90)\n",
    "\n",
    "for i in colunas_de_pronomes.patches:\n",
    "    colunas_de_pronomes.annotate(f'{i.get_height()}', \n",
    "                     (i.get_x() + i.get_width() / 2., i.get_height()), \n",
    "                     ha='center', va='center', \n",
    "                     fontsize=8, color='black', xytext=(0, 5),\n",
    "                     textcoords='offset points')\n",
    "\n",
    "colunas_de_pronomes"
   ]
  },
  {
   "cell_type": "code",
   "execution_count": 8,
   "id": "faa0db08",
   "metadata": {},
   "outputs": [
    {
     "data": {
      "text/plain": [
       "Pronoun       Survived\n",
       "Rev           0.0         6\n",
       "Dr            0.0         4\n",
       "              1.0         3\n",
       "Col           NaN         2\n",
       "Rev           NaN         2\n",
       "Mlle          1.0         2\n",
       "Capt          0.0         1\n",
       "Major         1.0         1\n",
       "Sir           1.0         1\n",
       "Ms            NaN         1\n",
       "              1.0         1\n",
       "Mme           1.0         1\n",
       "Lady          1.0         1\n",
       "Major         0.0         1\n",
       "Col           0.0         1\n",
       "Jonkheer      0.0         1\n",
       "Dr            NaN         1\n",
       "Dona          NaN         1\n",
       "Don           0.0         1\n",
       "Col           1.0         1\n",
       "the Countess  1.0         1\n",
       "dtype: int64"
      ]
     },
     "execution_count": 8,
     "metadata": {},
     "output_type": "execute_result"
    }
   ],
   "source": [
    "'''\n",
    "A depender do comportamento desses títulos que possuem aparições menores ou igual a    oito,\n",
    "faz mais sentido os unir em apenas uma categória, algo como \"outros\".\n",
    "'''\n",
    "\n",
    "quantidades_de_p = df_create['Pronoun'].value_counts()\n",
    "\n",
    "df_create[df_create['Pronoun'].isin(quantidades_de_p[quantidades_de_p <= 8].index)][['Pronoun', 'Survived']].value_counts(dropna=False)"
   ]
  },
  {
   "cell_type": "code",
   "execution_count": 9,
   "id": "213963ce",
   "metadata": {},
   "outputs": [
    {
     "name": "stdout",
     "output_type": "stream",
     "text": [
      "Existem 7 constantes únicas que são 757 \"Mr\", 260 \"Miss\", 197 \"Mrs\", 61 \"Master\", 17 \"Pronoun_0_1\", 11 \"Pronoun_0\", 6 \"Pronoun_1\" e 0 dados faltantes.\n"
     ]
    }
   ],
   "source": [
    "'''\n",
    "Analisando os dados, percebe-se que existem pronomes de tratamento citados que        apenas \n",
    "morreram, apenas viveram, e existem aqueles que as quantidades são divididas. Seria     mais \n",
    "lógico então resumir esses pronomes em apenas três, os com a taxa de mortalidade alta, baixa\n",
    "e dividida.\n",
    "'''\n",
    "\n",
    "# Separando manualmente os pronomes de tratamento\n",
    "\n",
    "df_create['Pronoun'] = df_create['Pronoun'].replace(['Capt', 'Don', 'Jonkheer', 'Rev'], 'Pronoun_0')\n",
    "df_create['Pronoun'] = df_create['Pronoun'].replace(['Lady', 'Mme', 'Mlle', 'Sir', 'the Countess'], 'Pronoun_1')\n",
    "df_create['Pronoun'] = df_create['Pronoun'].replace(['Col', 'Dona', 'Dr', 'Major', 'Ms'], 'Pronoun_0_1')\n",
    "\n",
    "# Nova análise de nomes\n",
    "\n",
    "analise(df_create['Pronoun'])"
   ]
  },
  {
   "cell_type": "code",
   "execution_count": 10,
   "id": "fccce4b8",
   "metadata": {},
   "outputs": [],
   "source": [
    "# Transformação das variáveis de \"Pronoun\" em multiplas colunas que representam de forma binária os dados\n",
    "# da coluna \"Name\".\n",
    "\n",
    "b_Name = pd.get_dummies(df_create['Pronoun'], prefix='Name')\n",
    "\n",
    "df_final = pd.concat([df_final, b_Name], axis=1)"
   ]
  },
  {
   "cell_type": "markdown",
   "id": "9361c08e",
   "metadata": {},
   "source": [
    "#### Sex"
   ]
  },
  {
   "cell_type": "code",
   "execution_count": 11,
   "id": "6640354d",
   "metadata": {},
   "outputs": [
    {
     "name": "stdout",
     "output_type": "stream",
     "text": [
      "Existem 2 constantes únicas que são 843 \"male\", 466 \"female\" e 0 dados faltantes.\n"
     ]
    }
   ],
   "source": [
    "analise(df_create['Sex'])"
   ]
  },
  {
   "cell_type": "code",
   "execution_count": 12,
   "id": "3584d325",
   "metadata": {},
   "outputs": [],
   "source": [
    "'''\n",
    "Nota-se que existem apenas duas constantes sem nenhum dado faltante, logo, fica claro    que\n",
    "não há necessidade de nenhum tratamento de dados, a não ser transforma-los em binário.\n",
    "'''\n",
    "\n",
    "# Transformando constante da coluna \"Sex\" em binário\n",
    "\n",
    "df_create['Sex'] = df_create['Sex'].replace(['male', 'female'], [0, 1])\n",
    "\n",
    "df_final = pd.concat([df_final, df_create['Sex']], axis=1)"
   ]
  },
  {
   "cell_type": "markdown",
   "id": "3a61a1cd",
   "metadata": {},
   "source": [
    "#### Age"
   ]
  },
  {
   "cell_type": "code",
   "execution_count": 13,
   "id": "4ce4ab60",
   "metadata": {},
   "outputs": [
    {
     "name": "stdout",
     "output_type": "stream",
     "text": [
      "Existem 98 constantes únicas que são 47 \"24.0\", 43 \"22.0\", 41 \"21.0\", 40 \"30.0\", 39 \"18.0\", 34 \"25.0\", 32 \"28.0\", 31 \"36.0\", 30 \"26.0\", 30 \"29.0\", 30 \"27.0\", 29 \"19.0\", 26 \"23.0\", 24 \"32.0\", 23 \"35.0\", 23 \"20.0\", 23 \"31.0\", 21 \"33.0\", 21 \"45.0\", 20 \"17.0\", 20 \"39.0\", 19 \"16.0\", 18 \"42.0\", 18 \"40.0\", 16 \"34.0\", 15 \"50.0\", 14 \"38.0\", 14 \"48.0\", 14 \"47.0\", 12 \"2.0\", 11 \"41.0\", 10 \"1.0\", 10 \"9.0\", 10 \"44.0\", 10 \"4.0\", 10 \"54.0\", 9 \"37.0\", 9 \"43.0\", 9 \"49.0\", 8 \"55.0\", 8 \"14.0\", 8 \"51.0\", 7 \"3.0\", 7 \"60.0\", 6 \"6.0\", 6 \"8.0\", 6 \"52.0\", 6 \"15.0\", 6 \"58.0\", 6 \"46.0\", 5 \"64.0\", 5 \"57.0\", 5 \"13.0\", 5 \"61.0\", 5 \"5.0\", 5 \"62.0\", 4 \"7.0\", 4 \"53.0\", 4 \"56.0\", 4 \"11.0\", 4 \"32.5\", 4 \"10.0\", 4 \"63.0\", 3 \"0.75\", 3 \"0.83\", 3 \"28.5\", 3 \"59.0\", 3 \"40.5\", 3 \"65.0\", 3 \"12.0\", 3 \"18.5\", 2 \"71.0\", 2 \"34.5\", 2 \"45.5\", 2 \"14.5\", 2 \"36.5\", 2 \"0.92\", 2 \"70.0\", 2 \"30.5\", 1 \"23.5\", 1 \"80.0\", 1 \"20.5\", 1 \"24.5\", 1 \"0.42\", 1 \"0.67\", 1 \"26.5\", 1 \"55.5\", 1 \"70.5\", 1 \"66.0\", 1 \"38.5\", 1 \"0.17\", 1 \"0.33\", 1 \"11.5\", 1 \"60.5\", 1 \"76.0\", 1 \"67.0\", 1 \"22.5\", 1 \"74.0\", e 263 dados faltantes.\n"
     ]
    }
   ],
   "source": [
    "analise(df_create['Age'])"
   ]
  },
  {
   "cell_type": "code",
   "execution_count": 14,
   "id": "907d3faa",
   "metadata": {},
   "outputs": [
    {
     "name": "stderr",
     "output_type": "stream",
     "text": [
      ""
     ]
    },
    {
     "data": {
      "text/html": [
       "<div>\n",
       "<style scoped>\n",
       "    .dataframe tbody tr th:only-of-type {\n",
       "        vertical-align: middle;\n",
       "    }\n",
       "\n",
       "    .dataframe tbody tr th {\n",
       "        vertical-align: top;\n",
       "    }\n",
       "\n",
       "    .dataframe thead th {\n",
       "        text-align: right;\n",
       "    }\n",
       "</style>\n",
       "<table border=\"1\" class=\"dataframe\">\n",
       "  <thead>\n",
       "    <tr style=\"text-align: right;\">\n",
       "      <th></th>\n",
       "      <th>PassengerId</th>\n",
       "      <th>Pclass</th>\n",
       "      <th>Sex</th>\n",
       "      <th>Age</th>\n",
       "      <th>SibSp</th>\n",
       "      <th>Parch</th>\n",
       "      <th>Fare</th>\n",
       "      <th>Survived</th>\n",
       "    </tr>\n",
       "  </thead>\n",
       "  <tbody>\n",
       "    <tr>\n",
       "      <th>PassengerId</th>\n",
       "      <td>1.000000</td>\n",
       "      <td>-0.038354</td>\n",
       "      <td>-0.013406</td>\n",
       "      <td>0.028814</td>\n",
       "      <td>-0.055224</td>\n",
       "      <td>0.008942</td>\n",
       "      <td>0.031428</td>\n",
       "      <td>-0.005007</td>\n",
       "    </tr>\n",
       "    <tr>\n",
       "      <th>Pclass</th>\n",
       "      <td>-0.038354</td>\n",
       "      <td>1.000000</td>\n",
       "      <td>-0.124617</td>\n",
       "      <td>-0.408106</td>\n",
       "      <td>0.060832</td>\n",
       "      <td>0.018322</td>\n",
       "      <td>-0.558629</td>\n",
       "      <td>-0.338481</td>\n",
       "    </tr>\n",
       "    <tr>\n",
       "      <th>Sex</th>\n",
       "      <td>-0.013406</td>\n",
       "      <td>-0.124617</td>\n",
       "      <td>1.000000</td>\n",
       "      <td>-0.063645</td>\n",
       "      <td>0.109609</td>\n",
       "      <td>0.213125</td>\n",
       "      <td>0.185523</td>\n",
       "      <td>0.543351</td>\n",
       "    </tr>\n",
       "    <tr>\n",
       "      <th>Age</th>\n",
       "      <td>0.028814</td>\n",
       "      <td>-0.408106</td>\n",
       "      <td>-0.063645</td>\n",
       "      <td>1.000000</td>\n",
       "      <td>-0.243699</td>\n",
       "      <td>-0.150917</td>\n",
       "      <td>0.178740</td>\n",
       "      <td>-0.077221</td>\n",
       "    </tr>\n",
       "    <tr>\n",
       "      <th>SibSp</th>\n",
       "      <td>-0.055224</td>\n",
       "      <td>0.060832</td>\n",
       "      <td>0.109609</td>\n",
       "      <td>-0.243699</td>\n",
       "      <td>1.000000</td>\n",
       "      <td>0.373587</td>\n",
       "      <td>0.160238</td>\n",
       "      <td>-0.035322</td>\n",
       "    </tr>\n",
       "    <tr>\n",
       "      <th>Parch</th>\n",
       "      <td>0.008942</td>\n",
       "      <td>0.018322</td>\n",
       "      <td>0.213125</td>\n",
       "      <td>-0.150917</td>\n",
       "      <td>0.373587</td>\n",
       "      <td>1.000000</td>\n",
       "      <td>0.221539</td>\n",
       "      <td>0.081629</td>\n",
       "    </tr>\n",
       "    <tr>\n",
       "      <th>Fare</th>\n",
       "      <td>0.031428</td>\n",
       "      <td>-0.558629</td>\n",
       "      <td>0.185523</td>\n",
       "      <td>0.178740</td>\n",
       "      <td>0.160238</td>\n",
       "      <td>0.221539</td>\n",
       "      <td>1.000000</td>\n",
       "      <td>0.257307</td>\n",
       "    </tr>\n",
       "    <tr>\n",
       "      <th>Survived</th>\n",
       "      <td>-0.005007</td>\n",
       "      <td>-0.338481</td>\n",
       "      <td>0.543351</td>\n",
       "      <td>-0.077221</td>\n",
       "      <td>-0.035322</td>\n",
       "      <td>0.081629</td>\n",
       "      <td>0.257307</td>\n",
       "      <td>1.000000</td>\n",
       "    </tr>\n",
       "  </tbody>\n",
       "</table>\n",
       "</div>"
      ],
      "text/plain": [
       "             PassengerId    Pclass       Sex       Age     SibSp     Parch  \\\n",
       "PassengerId     1.000000 -0.038354 -0.013406  0.028814 -0.055224  0.008942   \n",
       "Pclass         -0.038354  1.000000 -0.124617 -0.408106  0.060832  0.018322   \n",
       "Sex            -0.013406 -0.124617  1.000000 -0.063645  0.109609  0.213125   \n",
       "Age             0.028814 -0.408106 -0.063645  1.000000 -0.243699 -0.150917   \n",
       "SibSp          -0.055224  0.060832  0.109609 -0.243699  1.000000  0.373587   \n",
       "Parch           0.008942  0.018322  0.213125 -0.150917  0.373587  1.000000   \n",
       "Fare            0.031428 -0.558629  0.185523  0.178740  0.160238  0.221539   \n",
       "Survived       -0.005007 -0.338481  0.543351 -0.077221 -0.035322  0.081629   \n",
       "\n",
       "                 Fare  Survived  \n",
       "PassengerId  0.031428 -0.005007  \n",
       "Pclass      -0.558629 -0.338481  \n",
       "Sex          0.185523  0.543351  \n",
       "Age          0.178740 -0.077221  \n",
       "SibSp        0.160238 -0.035322  \n",
       "Parch        0.221539  0.081629  \n",
       "Fare         1.000000  0.257307  \n",
       "Survived     0.257307  1.000000  "
      ]
     },
     "execution_count": 14,
     "metadata": {},
     "output_type": "execute_result"
    }
   ],
   "source": [
    "'''\n",
    "Existem muitas idades diferentes, e ao mesmo tempo muitos dados faltantes. O caminho    mais \n",
    "lógico a se seguir é tentar estimar as idades faltantes com base na correlação   estatística \n",
    "dessa coluna, com as outras disponíveis.\n",
    "'''\n",
    "\n",
    "df_create.corr()"
   ]
  },
  {
   "cell_type": "code",
   "execution_count": 15,
   "id": "33ba9c13",
   "metadata": {},
   "outputs": [
    {
     "data": {
      "text/plain": [
       "<seaborn.axisgrid.FacetGrid at 0x23d085b7c50>"
      ]
     },
     "execution_count": 15,
     "metadata": {},
     "output_type": "execute_result"
    },
    {
     "data": {
      "image/png": "[encoded data removed]",
      "text/plain": [
       "<Figure size 500x500 with 1 Axes>"
      ]
     },
     "metadata": {},
     "output_type": "display_data"
    }
   ],
   "source": [
    "'''\n",
    "As colunas que mais se correlacionam com \"Age\" são a \"Pclass\", \"SibSp\", \"Parch\" e    \"Fare\". \n",
    "Para preencher os dados faltantes, a melhor lógica a se seguir é tentar fazer médias, e para\n",
    "aumentar a precisão dessas médias, elas serão calculadas com base em filtros das colunas que\n",
    "se correlacionam. As colunas com excessão da \"Fare\" possuem poucas constantes únicas,  então \n",
    "para que seja viável utilizar essa última como filtro, faz-se necessária a classificação dos \n",
    "valores através de suas taxas.\n",
    "'''\n",
    "\n",
    "sns.displot(df_create['Fare'], kde=True)"
   ]
  },
  {
   "cell_type": "code",
   "execution_count": 16,
   "id": "7d98f83f",
   "metadata": {},
   "outputs": [
    {
     "name": "stdout",
     "output_type": "stream",
     "text": [
      "P(x <= 0) = 17\t\tP(x <= 1) = 17\t\tP(x <= 2) = 17\t\tP(x <= 3) = 17\t\t\n",
      "P(x <= 4) = 18\t\tP(x <= 5) = 20\t\tP(x <= 6) = 20\t\tP(x <= 7) = 37\t\t\n",
      "P(x <= 8) = 360\t\tP(x <= 9) = 461\t\tP(x <= 10) = 491\tP(x <= 11) = 531\t\n",
      "P(x <= 12) = 543\tP(x <= 13) = 621\tP(x <= 14) = 642\tP(x <= 15) = 673\t\n",
      "P(x <= 16) = 716\tP(x <= 17) = 731\tP(x <= 18) = 739\tP(x <= 19) = 744\t\n",
      "P(x <= 20) = 752\tP(x <= 21) = 779\tP(x <= 22) = 787\tP(x <= 23) = 803\t\n",
      "P(x <= 24) = 812\tP(x <= 25) = 821\tP(x <= 26) = 882\tP(x <= 27) = 917\t\n",
      "P(x <= 28) = 940\tP(x <= 29) = 947\tP(x <= 30) = 965\tP(x <= 31) = 978\t\n",
      "P(x <= 32) = 997\tP(x <= 33) = 1004\tP(x <= 34) = 1005\tP(x <= 35) = 1013\t\n",
      "P(x <= 36) = 1017\tP(x <= 37) = 1021\tP(x <= 38) = 1024\tP(x <= 39) = 1032\t\n",
      "P(x <= 40) = 1044\tP(x <= 41) = 1045\tP(x <= 42) = 1049\tP(x <= 43) = 1052\t\n",
      "P(x <= 44) = 1052\tP(x <= 45) = 1052\tP(x <= 46) = 1053\tP(x <= 47) = 1061\t\n",
      "P(x <= 48) = 1063\tP(x <= 49) = 1063\tP(x <= 50) = 1068\tP(x <= 51) = 1070\t\n",
      "P(x <= 52) = 1084\tP(x <= 53) = 1088\tP(x <= 54) = 1094\tP(x <= 55) = 1096\t\n",
      "P(x <= 56) = 1102\tP(x <= 57) = 1114\tP(x <= 58) = 1118\tP(x <= 59) = 1118\t\n",
      "P(x <= 60) = 1124\tP(x <= 61) = 1124\tP(x <= 62) = 1130\tP(x <= 63) = 1130\t\n",
      "P(x <= 64) = 1132\tP(x <= 65) = 1137\tP(x <= 66) = 1137\tP(x <= 67) = 1139\t\n",
      "P(x <= 68) = 1139\tP(x <= 69) = 1139\tP(x <= 70) = 1152\tP(x <= 71) = 1154\t\n",
      "P(x <= 72) = 1156\tP(x <= 73) = 1156\tP(x <= 74) = 1163\tP(x <= 75) = 1163\t\n",
      "P(x <= 76) = 1167\tP(x <= 77) = 1172\tP(x <= 78) = 1177\tP(x <= 79) = 1182\t\n",
      "P(x <= 80) = 1193\tP(x <= 81) = 1193\tP(x <= 82) = 1196\tP(x <= 83) = 1200\t\n",
      "P(x <= 84) = 1208\tP(x <= 85) = 1208\tP(x <= 86) = 1208\tP(x <= 87) = 1211\t\n",
      "P(x <= 88) = 1211\tP(x <= 89) = 1211\tP(x <= 90) = 1218\tP(x <= 91) = 1218\t\n",
      "P(x <= 92) = 1220\tP(x <= 93) = 1220\tP(x <= 94) = 1224\tP(x <= 95) = 1224\t\n",
      "P(x <= 96) = 1224\tP(x <= 97) = 1224\tP(x <= 98) = 1224\tP(x <= 99) = 1224\t\n",
      "P(x <= 100) = 1224\t"
     ]
    },
    {
     "data": {
      "text/plain": [
       "<seaborn.axisgrid.FacetGrid at 0x23d0864ec10>"
      ]
     },
     "execution_count": 16,
     "metadata": {},
     "output_type": "execute_result"
    },
    {
     "data": {
      "image/png": "[encoded data removed]",
      "text/plain": [
       "<Figure size 500x500 with 1 Axes>"
      ]
     },
     "metadata": {},
     "output_type": "display_data"
    }
   ],
   "source": [
    "'''\n",
    "Ao observar o gráfico, fica nítido que a grande maioria dos passageiros estão apenas  dentro \n",
    "de uma pequena faixa de valores, enquanto a minoria possui uma maior variação desses.   Para \n",
    "facilitar a análise é possível dividir esses valores em três categorias de acordo com      o \n",
    "número de passageiros:\n",
    "\n",
    "A baixa, que pode ser compreendida como a média das taxas que atingem aproximadamente     50 \n",
    "passageiros;\n",
    "\n",
    "A razoável, que pode ser compreendida como a média das taxas que atingem números  superiores \n",
    "a 50 passageiros, e inferiores a aproximadamente 150 passageiros;\n",
    "\n",
    "A alta, que pode ser compreendida como a média das taxas que atingem números superiores    a \n",
    "150 passageiros.\n",
    "\n",
    "Para a partir de que número pegar de forma mais precisa, é importante observar a  progressão\n",
    "dos dados.\n",
    "'''\n",
    "\n",
    "# Crescimento da quantidade de passageiros conforme o valor aumenta\n",
    "\n",
    "c = 0\n",
    "\n",
    "for i in range(101):\n",
    "    if i < 10:\n",
    "        print(f'P(x <= {i}) = {df_create[(df_create[\"Fare\"] <= i)][\"Fare\"].value_counts().sum()}', end='\\t\\t')\n",
    "        \n",
    "    else:\n",
    "        print(f'P(x <= {i}) = {df_create[(df_create[\"Fare\"] <= i)][\"Fare\"].value_counts().sum()}', end='\\t')\n",
    "       \n",
    "    c += 1\n",
    "    \n",
    "    if c == 4:\n",
    "        c = 0\n",
    "        print()\n",
    "\n",
    "# Gráfico desse crescimento        \n",
    "\n",
    "sns.displot(df_create[\"Fare\"].value_counts(), kde=True)"
   ]
  },
  {
   "cell_type": "code",
   "execution_count": 17,
   "id": "2ab56ae9",
   "metadata": {},
   "outputs": [],
   "source": [
    "'''\n",
    "Analisando a forma como os dados se comportam, é possível aferir a partir de que momento  se \n",
    "iniciam as três classes porpostas:\n",
    "\n",
    "- Baixa: Os passageiros com a taxa maior ou igual a 0 e menor ou igual a 6, e maior ou igual\n",
    "a 32;\n",
    "                                                                                            \n",
    "- Razoável: Os passageiros com a taxa maior que 9 e menor que 32;                           \n",
    "                                                                                            \n",
    "- Alta: Os passageiros com a taxa maior que 6 e menor ou igual a 9.                         \n",
    "                                                                                            \n",
    "Agora basta calcular as médiasdas idades, de acordo com os filtros.\n",
    "'''\n",
    "\n",
    "Pclass_u = list(df_create[\"Pclass\"].unique())\n",
    "SibSp_u = list(df_create[\"SibSp\"].unique())\n",
    "Parch_u = list(df_create[\"Parch\"].unique())\n",
    "\n",
    "# Iterações para \"Pclass\"\n",
    "for i in range(len(df_create[\"Pclass\"].unique())):\n",
    "    \n",
    "    # Iterações para \"SibSp\"\n",
    "    for j in range(len(df_create[\"SibSp\"].unique())):\n",
    "    \n",
    "        # Iterações para \"Parch\"    \n",
    "        for k in range(len(df_create[\"Parch\"].unique())):\n",
    "                    \n",
    "            # Iterações para \"Fare\"\n",
    "            \n",
    "            filtro_nan = ((df_create[\"Pclass\"] == Pclass_u[i]) & \n",
    "                          (df_create[\"SibSp\"] == SibSp_u[j]) & \n",
    "                          (df_create[\"Parch\"] == Parch_u[k]) &\n",
    "                          (df_create['Age'].isna()))\n",
    "            \n",
    "            filtro_mean = ((df_create[\"Pclass\"] == Pclass_u[i]) & \n",
    "                           (df_create[\"SibSp\"] == SibSp_u[j]) & \n",
    "                           (df_create[\"Parch\"] == Parch_u[k]))\n",
    "            \n",
    "            ##  Alto\n",
    "            \n",
    "            alto = (df_create[\"Fare\"] > 6) & (df_create[\"Fare\"] <= 9)\n",
    "\n",
    "            df_create.loc[filtro_nan + alto, 'Age'] = df_create.loc[filtro_nan + alto, 'Age'].fillna(df_create.loc[filtro_mean + alto, 'Age'].mean())\n",
    "            \n",
    "            ## Razoável\n",
    "            \n",
    "            razoavel = (df_create[\"Fare\"] > 9) & (df_create[\"Fare\"] < 32)\n",
    "\n",
    "            df_create.loc[filtro_nan + razoavel, 'Age'] = df_create.loc[filtro_nan + razoavel, 'Age'].fillna(df_create.loc[filtro_mean + razoavel, 'Age'].mean())\n",
    "\n",
    "            ## Baixo\n",
    "            \n",
    "            baixo_06 = (df_create[\"Fare\"] >= 0) & (df_create[\"Fare\"] <= 6)\n",
    "            \n",
    "            df_create.loc[filtro_nan + baixo_06, 'Age'] = df_create.loc[filtro_nan + baixo_06, 'Age'].fillna(df_create.loc[filtro_mean + baixo_06, 'Age'].mean())\n",
    "\n",
    "            baixo_32 = (df_create[\"Fare\"] >= 32)\n",
    "            \n",
    "            df_create.loc[filtro_nan + baixo_32, 'Age'] = df_create.loc[filtro_nan + baixo_32, 'Age'].fillna(df_create.loc[filtro_mean + baixo_32, 'Age'].mean())\n",
    "           \n",
    "df_final = pd.concat([df_final, df_create['Age']], axis=1)"
   ]
  },
  {
   "cell_type": "markdown",
   "id": "9c14d433",
   "metadata": {},
   "source": [
    "#### SibSp"
   ]
  },
  {
   "cell_type": "code",
   "execution_count": 18,
   "id": "184a0bc8",
   "metadata": {},
   "outputs": [
    {
     "name": "stdout",
     "output_type": "stream",
     "text": [
      "Existem 7 constantes únicas que são 891 \"0\", 319 \"1\", 42 \"2\", 22 \"4\", 20 \"3\", 9 \"8\", 6 \"5\" e 0 dados faltantes.\n"
     ]
    }
   ],
   "source": [
    "analise(df_create['SibSp'])"
   ]
  },
  {
   "cell_type": "code",
   "execution_count": 19,
   "id": "db13f9b8",
   "metadata": {},
   "outputs": [],
   "source": [
    "'''\n",
    "As variáveis são todas numéricas, e não há nenhum dado faltante. Logo, fica claro que      a\n",
    "coluna em questão não necessita de nenhum tratamento estatístico.\n",
    "'''\n",
    "\n",
    "df_final = pd.concat([df_final, df_create['SibSp']], axis=1)"
   ]
  },
  {
   "cell_type": "markdown",
   "id": "274001b1",
   "metadata": {},
   "source": [
    "#### Parch"
   ]
  },
  {
   "cell_type": "code",
   "execution_count": 20,
   "id": "527358f1",
   "metadata": {},
   "outputs": [
    {
     "name": "stdout",
     "output_type": "stream",
     "text": [
      "Existem 8 constantes únicas que são 1002 \"0\", 170 \"1\", 113 \"2\", 8 \"3\", 6 \"4\", 6 \"5\", 2 \"6\", 2 \"9\" e 0 dados faltantes.\n"
     ]
    }
   ],
   "source": [
    "analise(df_create['Parch'])"
   ]
  },
  {
   "cell_type": "code",
   "execution_count": 21,
   "id": "1cfbad56",
   "metadata": {},
   "outputs": [],
   "source": [
    "'''\n",
    "As variáveis são todas numéricas, e não há nenhum dado faltante. Logo, fica claro que      a\n",
    "coluna em questão não necessita de nenhum tratamento estatístico.\n",
    "'''\n",
    "\n",
    "df_final = pd.concat([df_final, df_create['Parch']], axis=1)"
   ]
  },
  {
   "cell_type": "markdown",
   "id": "99fca5c0",
   "metadata": {},
   "source": [
    "#### Fare"
   ]
  },
  {
   "cell_type": "code",
   "execution_count": 22,
   "id": "26ae3b93",
   "metadata": {},
   "outputs": [
    {
     "name": "stdout",
     "output_type": "stream",
     "text": [
      "Existem 281 constantes únicas que são 60 \"8.05\", 59 \"13.0\", 55 \"7.75\", 50 \"26.0\", 49 \"7.8958\", 35 \"10.5\", 26 \"7.775\", 24 \"7.2292\", 23 \"7.925\", 22 \"26.55\", 21 \"7.225\", 21 \"7.8542\", 21 \"8.6625\", 18 \"7.25\", 17 \"0.0\", 14 \"21.0\", 12 \"9.5\", 12 \"16.1\", 11 \"69.55\", 11 \"14.5\", 11 \"27.7208\", 10 \"7.8792\", 10 \"7.7958\", 10 \"15.5\", 10 \"14.4542\", 9 \"7.05\", 9 \"24.15\", 9 \"15.2458\", 8 \"7.55\", 8 \"52.0\", 8 \"46.9\", 8 \"56.4958\", 7 \"31.275\", 7 \"13.5\", 7 \"39.0\", 7 \"23.0\", 7 \"30.0\", 7 \"39.6875\", 7 \"262.375\", 7 \"7.7333\", 7 \"31.3875\", 7 \"73.5\", 6 \"11.5\", 6 \"29.125\", 6 \"79.2\", 6 \"151.55\", 6 \"7.65\", 6 \"83.1583\", 6 \"27.9\", 6 \"30.5\", 6 \"263.0\", 6 \"26.25\", 6 \"53.1\", 5 \"227.525\", 5 \"134.5\", 5 \"27.75\", 5 \"65.0\", 5 \"21.075\", 5 \"12.35\", 5 \"90.0\", 5 \"34.375\", 5 \"211.5\", 5 \"25.4667\", 5 \"29.7\", 4 \"110.8833\", 4 \"120.0\", 4 \"41.5792\", 4 \"93.5\", 4 \"19.2583\", 4 \"135.6333\", 4 \"164.8667\", 4 \"18.0\", 4 \"59.4\", 4 \"51.8625\", 4 \"211.3375\", 4 \"35.5\", 4 \"512.3292\", 4 \"14.4583\", 4 \"7.125\", 4 \"20.575\", 4 \"23.45\", 4 \"221.7792\", 4 \"36.75\", 4 \"52.5542\", 4 \"15.85\", 4 \"12.475\", 4 \"55.4417\", 3 \"13.8583\", 3 \"6.4958\", 3 \"106.425\", 3 \"20.2125\", 3 \"7.8292\", 3 \"39.6\", 3 \"113.275\", 3 \"33.0\", 3 \"7.4958\", 3 \"26.2875\", 3 \"18.75\", 3 \"77.9583\", 3 \"153.4625\", 3 \"79.65\", 3 \"86.5\", 3 \"31.0\", 3 \"81.8583\", 3 \"20.525\", 3 \"76.7292\", 3 \"11.1333\", 3 \"108.9\", 3 \"20.25\", 3 \"37.0042\", 3 \"15.7417\", 3 \"146.5208\", 3 \"22.3583\", 3 \"9.35\", 3 \"78.85\", 3 \"22.025\", 3 \"22.525\", 3 \"21.6792\", 3 \"15.0458\", 3 \"6.4375\", 3 \"16.7\", 3 \"29.0\", 3 \"15.9\", 3 \"23.25\", 3 \"13.775\", 3 \"9.225\", 3 \"31.5\", 3 \"14.4\", 3 \"32.5\", 3 \"247.5208\", 2 \"11.2417\", 2 \"80.0\", 2 \"7.6292\", 2 \"10.4625\", 2 \"17.8\", 2 \"61.9792\", 2 \"49.5042\", 2 \"83.475\", 2 \"30.6958\", 2 \"61.3792\", 2 \"55.9\", 2 \"7.725\", 2 \"30.0708\", 2 \"42.4\", 2 \"7.0542\", 2 \"82.1708\", 2 \"18.7875\", 2 \"60.0\", 2 \"77.2875\", 2 \"78.2667\", 2 \"6.975\", 2 \"9.5875\", 2 \"9.825\", 2 \"66.6\", 2 \"12.2875\", 2 \"27.0\", 2 \"55.0\", 2 \"57.75\", 2 \"76.2917\", 2 \"91.0792\", 2 \"9.0\", 2 \"71.0\", 2 \"13.4167\", 2 \"19.5\", 2 \"6.75\", 2 \"7.0\", 2 \"13.8625\", 2 \"15.75\", 2 \"6.95\", 2 \"28.5\", 2 \"12.1833\", 2 \"17.4\", 2 \"57.9792\", 2 \"136.7792\", 2 \"7.8875\", 2 \"50.4958\", 2 \"133.65\", 2 \"75.25\", 2 \"71.2833\", 2 \"16.0\", 2 \"15.1\", 2 \"82.2667\", 2 \"8.1125\", 2 \"69.3\", 2 \"25.9292\", 2 \"19.9667\", 2 \"75.2417\", 2 \"14.1083\", 2 \"47.1\", 2 \"13.9\", 2 \"39.4\", 2 \"89.1042\", 2 \"12.875\", 2 \"50.0\", 2 \"8.5167\", 2 \"61.175\", 2 \"8.7125\", 2 \"15.55\", 2 \"51.4792\", 2 \"63.3583\", 2 \"57.0\", 2 \"24.0\", 2 \"56.9292\", 2 \"7.7375\", 1 \"12.65\", 1 \"7.875\", 1 \"6.8583\", 1 \"9.6875\", 1 \"38.5\", 1 \"13.7917\", 1 \"9.8458\", 1 \"5.0\", 1 \"8.3\", 1 \"6.45\", 1 \"8.6833\", 1 \"8.3625\", 1 \"9.4833\", 1 \"7.7417\", 1 \"10.1708\", 1 \"8.1375\", 1 \"9.8417\", 1 \"25.5875\", 1 \"8.4333\", 1 \"32.3208\", 1 \"7.7292\", 1 \"15.0\", 1 \"40.125\", 1 \"26.3875\", 1 \"49.5\", 1 \"34.0208\", 1 \"7.5208\", 1 \"7.0458\", 1 \"9.8375\", 1 \"12.0\", 1 \"25.7417\", 1 \"4.0125\", 1 \"7.5792\", 1 \"9.475\", 1 \"15.5792\", 1 \"8.0292\", 1 \"8.4583\", 1 \"28.5375\", 1 \"25.7\", 1 \"10.7083\", 1 \"7.7208\", 1 \"7.8208\", 1 \"7.7792\", 1 \"35.0\", 1 \"31.6792\", 1 \"7.2833\", 1 \"7.575\", 1 \"45.5\", 1 \"12.7375\", 1 \"9.325\", 1 \"8.9625\", 1 \"27.4458\", 1 \"42.5\", 1 \"7.8\", 1 \"15.0333\", 1 \"8.1583\", 1 \"7.7875\", 1 \"6.2375\", 1 \"14.0\", 1 \"8.85\", 1 \"3.1708\", 1 \"31.6833\", 1 \"12.275\", 1 \"8.4042\", 1 \"15.05\", 1 \"28.7125\", 1 \"33.5\", 1 \"25.925\", 1 \"7.85\", 1 \"7.3125\", 1 \"12.525\", 1 \"9.2167\", 1 \"26.2833\", 1 \"7.1417\", 1 \"8.6542\", 1 \"34.6542\", 1 \"10.5167\", e 1 dados faltantes.\n"
     ]
    }
   ],
   "source": [
    "analise(df_create['Fare'])"
   ]
  },
  {
   "cell_type": "code",
   "execution_count": 23,
   "id": "1b735027",
   "metadata": {},
   "outputs": [
    {
     "data": {
      "text/html": [
       "<div>\n",
       "<style scoped>\n",
       "    .dataframe tbody tr th:only-of-type {\n",
       "        vertical-align: middle;\n",
       "    }\n",
       "\n",
       "    .dataframe tbody tr th {\n",
       "        vertical-align: top;\n",
       "    }\n",
       "\n",
       "    .dataframe thead th {\n",
       "        text-align: right;\n",
       "    }\n",
       "</style>\n",
       "<table border=\"1\" class=\"dataframe\">\n",
       "  <thead>\n",
       "    <tr style=\"text-align: right;\">\n",
       "      <th></th>\n",
       "      <th>PassengerId</th>\n",
       "      <th>Pclass</th>\n",
       "      <th>Name</th>\n",
       "      <th>Sex</th>\n",
       "      <th>Age</th>\n",
       "      <th>SibSp</th>\n",
       "      <th>Parch</th>\n",
       "      <th>Ticket</th>\n",
       "      <th>Fare</th>\n",
       "      <th>Cabin</th>\n",
       "      <th>Embarked</th>\n",
       "      <th>Modify</th>\n",
       "      <th>Survived</th>\n",
       "      <th>Pronoun</th>\n",
       "    </tr>\n",
       "  </thead>\n",
       "  <tbody>\n",
       "    <tr>\n",
       "      <th>152</th>\n",
       "      <td>1044</td>\n",
       "      <td>3</td>\n",
       "      <td>Storey, Mr. Thomas</td>\n",
       "      <td>0</td>\n",
       "      <td>60.5</td>\n",
       "      <td>0</td>\n",
       "      <td>0</td>\n",
       "      <td>3701</td>\n",
       "      <td>NaN</td>\n",
       "      <td>NaN</td>\n",
       "      <td>S</td>\n",
       "      <td>test</td>\n",
       "      <td>NaN</td>\n",
       "      <td>Mr</td>\n",
       "    </tr>\n",
       "  </tbody>\n",
       "</table>\n",
       "</div>"
      ],
      "text/plain": [
       "     PassengerId  Pclass                Name  Sex   Age  SibSp  Parch Ticket  \\\n",
       "152         1044       3  Storey, Mr. Thomas    0  60.5      0      0   3701   \n",
       "\n",
       "     Fare Cabin Embarked Modify  Survived Pronoun  \n",
       "152   NaN   NaN        S   test       NaN      Mr  "
      ]
     },
     "execution_count": 23,
     "metadata": {},
     "output_type": "execute_result"
    }
   ],
   "source": [
    "'''\n",
    "As variáveis são todas numéricas, e existe apenas um dado faltante. A princípio uma    busca \n",
    "por colunas com dados semelhantes e maior correlação pode solucionar o problema           de \n",
    "preenchimento deste dado.\n",
    "'''\n",
    "\n",
    "df_create[df_create['Fare'].isna()]"
   ]
  },
  {
   "cell_type": "code",
   "execution_count": 24,
   "id": "822cf81e",
   "metadata": {},
   "outputs": [],
   "source": [
    "# Preenchendo dado faltante com média de dados após filtro de colunas que mais            se\n",
    "# correlacionam\n",
    "\n",
    "filtro = (df_create['Pclass'] == 3) & (df_create['Sex'] == 0) & (df_create['Parch'] == 0)\n",
    "\n",
    "df_create.loc[filtro + df_create['Fare'].isna(), 'Fare'] = df_create.loc[filtro + df_create['Fare'].isna(), 'Fare'].fillna(df_create.loc[filtro, 'Fare'].mean())\n",
    "\n",
    "# Adicionando dados na planilha principal\n",
    "\n",
    "df_final = pd.concat([df_final, df_create['Fare']], axis=1)"
   ]
  },
  {
   "cell_type": "markdown",
   "id": "3b7d65bb",
   "metadata": {},
   "source": [
    "#### Embarked"
   ]
  },
  {
   "cell_type": "code",
   "execution_count": 25,
   "id": "31b34d8b",
   "metadata": {},
   "outputs": [
    {
     "name": "stdout",
     "output_type": "stream",
     "text": [
      "Existem 3 constantes únicas que são 914 \"S\", 270 \"C\", 123 \"Q\", e 2 dados faltantes.\n"
     ]
    }
   ],
   "source": [
    "analise(df_create['Embarked'])"
   ]
  },
  {
   "cell_type": "code",
   "execution_count": 26,
   "id": "69dd547b",
   "metadata": {},
   "outputs": [
    {
     "data": {
      "text/html": [
       "<div>\n",
       "<style scoped>\n",
       "    .dataframe tbody tr th:only-of-type {\n",
       "        vertical-align: middle;\n",
       "    }\n",
       "\n",
       "    .dataframe tbody tr th {\n",
       "        vertical-align: top;\n",
       "    }\n",
       "\n",
       "    .dataframe thead th {\n",
       "        text-align: right;\n",
       "    }\n",
       "</style>\n",
       "<table border=\"1\" class=\"dataframe\">\n",
       "  <thead>\n",
       "    <tr style=\"text-align: right;\">\n",
       "      <th></th>\n",
       "      <th>PassengerId</th>\n",
       "      <th>Pclass</th>\n",
       "      <th>Name</th>\n",
       "      <th>Sex</th>\n",
       "      <th>Age</th>\n",
       "      <th>SibSp</th>\n",
       "      <th>Parch</th>\n",
       "      <th>Ticket</th>\n",
       "      <th>Fare</th>\n",
       "      <th>Cabin</th>\n",
       "      <th>Embarked</th>\n",
       "      <th>Modify</th>\n",
       "      <th>Survived</th>\n",
       "      <th>Pronoun</th>\n",
       "    </tr>\n",
       "  </thead>\n",
       "  <tbody>\n",
       "    <tr>\n",
       "      <th>61</th>\n",
       "      <td>62</td>\n",
       "      <td>1</td>\n",
       "      <td>Icard, Miss. Amelie</td>\n",
       "      <td>1</td>\n",
       "      <td>38.0</td>\n",
       "      <td>0</td>\n",
       "      <td>0</td>\n",
       "      <td>113572</td>\n",
       "      <td>80.0</td>\n",
       "      <td>B28</td>\n",
       "      <td>NaN</td>\n",
       "      <td>train</td>\n",
       "      <td>1.0</td>\n",
       "      <td>Miss</td>\n",
       "    </tr>\n",
       "    <tr>\n",
       "      <th>829</th>\n",
       "      <td>830</td>\n",
       "      <td>1</td>\n",
       "      <td>Stone, Mrs. George Nelson (Martha Evelyn)</td>\n",
       "      <td>1</td>\n",
       "      <td>62.0</td>\n",
       "      <td>0</td>\n",
       "      <td>0</td>\n",
       "      <td>113572</td>\n",
       "      <td>80.0</td>\n",
       "      <td>B28</td>\n",
       "      <td>NaN</td>\n",
       "      <td>train</td>\n",
       "      <td>1.0</td>\n",
       "      <td>Mrs</td>\n",
       "    </tr>\n",
       "  </tbody>\n",
       "</table>\n",
       "</div>"
      ],
      "text/plain": [
       "     PassengerId  Pclass                                       Name  Sex  \\\n",
       "61            62       1                        Icard, Miss. Amelie    1   \n",
       "829          830       1  Stone, Mrs. George Nelson (Martha Evelyn)    1   \n",
       "\n",
       "      Age  SibSp  Parch  Ticket  Fare Cabin Embarked Modify  Survived Pronoun  \n",
       "61   38.0      0      0  113572  80.0   B28      NaN  train       1.0    Miss  \n",
       "829  62.0      0      0  113572  80.0   B28      NaN  train       1.0     Mrs  "
      ]
     },
     "execution_count": 26,
     "metadata": {},
     "output_type": "execute_result"
    }
   ],
   "source": [
    "'''\n",
    "Existem poucas variáveis nesta coluna, e apenas dois dados faltantes. Por as variáveis serem\n",
    "letras não é possível fazer a média como aconteceu na coluna \"Fare\", porém é possível  obter \n",
    "informações em linhas que possuem variáveis semelhantes. Uma boa lógica a se usar é a de  se \n",
    "basear no portão de embarque escolhido com base na cabine do passageiro, além de     algumas \n",
    "outras colunas usadas como suporte.\n",
    "'''\n",
    "\n",
    "df_create[df_create['Embarked'].isna()]"
   ]
  },
  {
   "cell_type": "code",
   "execution_count": 27,
   "id": "ee2c4cfb",
   "metadata": {},
   "outputs": [
    {
     "data": {
      "text/html": [
       "<div>\n",
       "<style scoped>\n",
       "    .dataframe tbody tr th:only-of-type {\n",
       "        vertical-align: middle;\n",
       "    }\n",
       "\n",
       "    .dataframe tbody tr th {\n",
       "        vertical-align: top;\n",
       "    }\n",
       "\n",
       "    .dataframe thead th {\n",
       "        text-align: right;\n",
       "    }\n",
       "</style>\n",
       "<table border=\"1\" class=\"dataframe\">\n",
       "  <thead>\n",
       "    <tr style=\"text-align: right;\">\n",
       "      <th></th>\n",
       "      <th>PassengerId</th>\n",
       "      <th>Pclass</th>\n",
       "      <th>Name</th>\n",
       "      <th>Sex</th>\n",
       "      <th>Age</th>\n",
       "      <th>SibSp</th>\n",
       "      <th>Parch</th>\n",
       "      <th>Ticket</th>\n",
       "      <th>Fare</th>\n",
       "      <th>Cabin</th>\n",
       "      <th>Embarked</th>\n",
       "      <th>Modify</th>\n",
       "      <th>Survived</th>\n",
       "      <th>Pronoun</th>\n",
       "    </tr>\n",
       "  </thead>\n",
       "  <tbody>\n",
       "    <tr>\n",
       "      <th>61</th>\n",
       "      <td>62</td>\n",
       "      <td>1</td>\n",
       "      <td>Icard, Miss. Amelie</td>\n",
       "      <td>1</td>\n",
       "      <td>38.0</td>\n",
       "      <td>0</td>\n",
       "      <td>0</td>\n",
       "      <td>113572</td>\n",
       "      <td>80.0</td>\n",
       "      <td>B28</td>\n",
       "      <td>NaN</td>\n",
       "      <td>train</td>\n",
       "      <td>1.0</td>\n",
       "      <td>Miss</td>\n",
       "    </tr>\n",
       "    <tr>\n",
       "      <th>829</th>\n",
       "      <td>830</td>\n",
       "      <td>1</td>\n",
       "      <td>Stone, Mrs. George Nelson (Martha Evelyn)</td>\n",
       "      <td>1</td>\n",
       "      <td>62.0</td>\n",
       "      <td>0</td>\n",
       "      <td>0</td>\n",
       "      <td>113572</td>\n",
       "      <td>80.0</td>\n",
       "      <td>B28</td>\n",
       "      <td>NaN</td>\n",
       "      <td>train</td>\n",
       "      <td>1.0</td>\n",
       "      <td>Mrs</td>\n",
       "    </tr>\n",
       "  </tbody>\n",
       "</table>\n",
       "</div>"
      ],
      "text/plain": [
       "     PassengerId  Pclass                                       Name  Sex  \\\n",
       "61            62       1                        Icard, Miss. Amelie    1   \n",
       "829          830       1  Stone, Mrs. George Nelson (Martha Evelyn)    1   \n",
       "\n",
       "      Age  SibSp  Parch  Ticket  Fare Cabin Embarked Modify  Survived Pronoun  \n",
       "61   38.0      0      0  113572  80.0   B28      NaN  train       1.0    Miss  \n",
       "829  62.0      0      0  113572  80.0   B28      NaN  train       1.0     Mrs  "
      ]
     },
     "execution_count": 27,
     "metadata": {},
     "output_type": "execute_result"
    }
   ],
   "source": [
    "'''\n",
    "É importante notar que além das outras semelhanças, ambos os passageiros que não possuem  os \n",
    "dados de embarque, possuem o mesmo valor de \"Ticket\" e de \"Fare\". É razoável constatar então\n",
    "que eles embarcaram pelo mesmo portão. Seguinte a filtragem com base na cabine, o     filtro\n",
    "ocorrerá com base nas vigésimas cabines \"B\".\n",
    "'''\n",
    "\n",
    "filtro = df_create[(df_create['Pclass'] == 1) & (df_create['Cabin'].str.startswith('B2')) & (df_create['Embarked'].isna())]\n",
    "\n",
    "filtro"
   ]
  },
  {
   "cell_type": "code",
   "execution_count": 28,
   "id": "52df10ce",
   "metadata": {},
   "outputs": [],
   "source": [
    "'''\n",
    "É importante notar que além das outras semelhanças, ambos os passageiros que não possuem  os \n",
    "Surpreendentemente todos os passageiros dessas cabines embarcaram em \"S\", logo é    possível\n",
    "supor que os passageiros sem dados também embarcaram por lá.\n",
    "'''\n",
    "\n",
    "df_create['Embarked'] = df_create['Embarked'].fillna('S')"
   ]
  },
  {
   "cell_type": "code",
   "execution_count": 29,
   "id": "122113cc",
   "metadata": {},
   "outputs": [],
   "source": [
    "# Transformando números em sistema binário\n",
    "\n",
    "b_Embarked = pd.get_dummies(df_create['Embarked'], prefix='Name')\n",
    "\n",
    "df_final = pd.concat([df_final, b_Embarked], axis=1)"
   ]
  },
  {
   "cell_type": "markdown",
   "id": "b9416f40",
   "metadata": {},
   "source": [
    "### Definição Dados para Aprendizado"
   ]
  },
  {
   "cell_type": "code",
   "execution_count": 30,
   "id": "7b4aabec",
   "metadata": {},
   "outputs": [],
   "source": [
    "import numpy as np\n",
    "\n",
    "from sklearn.ensemble import RandomForestClassifier\n",
    "from sklearn.linear_model import LogisticRegression\n",
    "from sklearn.model_selection import train_test_split\n",
    "\n",
    "modelo_arvore = RandomForestClassifier(n_estimators=100, n_jobs=-1, random_state=0)\n",
    "modelo_logistico = LogisticRegression()\n",
    "\n",
    "df_final['Modify'] = df_create['Modify']\n",
    "\n",
    "df_train_x = df_final[df_final['Modify'] == 'train'][df_final.columns.tolist()[:-1]]\n",
    "df_train_y = df_create[df_create['Modify'] == 'train'][['Survived']]\n",
    "\n",
    "df_test_x = df_final[df_final['Modify'] == 'test'][df_final.columns.tolist()[:-1]]\n",
    "df_test_y = df_create[df_create['Modify'] == 'test'][['Survived']]"
   ]
  },
  {
   "cell_type": "markdown",
   "id": "1a487a64",
   "metadata": {},
   "source": [
    "### Teste de Acurácia para Treinamentos"
   ]
  },
  {
   "cell_type": "code",
   "execution_count": 31,
   "id": "b1ea33bb",
   "metadata": {},
   "outputs": [
    {
     "name": "stdout",
     "output_type": "stream",
     "text": [
      "Random Forest\n"
     ]
    },
    {
     "name": "stderr",
     "output_type": "stream",
     "text": [
      "",
      ""
     ]
    }
   ],
   "source": [
    "# Separando dados para teste de acurácia\n",
    "\n",
    "np.random.seed(0)\n",
    "\n",
    "x_train, x_valid, y_train, y_valid = train_test_split(df_train_x, df_train_y, test_size=0.5)\n",
    "\n",
    "# Treinamento pela Random Forest\n",
    "\n",
    "modelo_arvore.fit(x_train, y_train)\n",
    "\n",
    "print('Random Forest')"
   ]
  },
  {
   "cell_type": "code",
   "execution_count": 32,
   "id": "df32e973",
   "metadata": {},
   "outputs": [
    {
     "name": "stdout",
     "output_type": "stream",
     "text": [
      "Logistic Regression\n"
     ]
    },
    {
     "name": "stderr",
     "output_type": "stream",
     "text": [
      ""
     ]
    }
   ],
   "source": [
    "# Treinamento pelo Logistic Regression\n",
    "\n",
    "modelo_logistico.fit(x_train, y_train)\n",
    "\n",
    "print('Logistic Regression')"
   ]
  },
  {
   "cell_type": "code",
   "execution_count": 33,
   "id": "a6cc1fbd",
   "metadata": {},
   "outputs": [
    {
     "data": {
      "text/plain": [
       "0.7959641255605381"
      ]
     },
     "execution_count": 33,
     "metadata": {},
     "output_type": "execute_result"
    }
   ],
   "source": [
    "# Pedindo para máquina predizer Survived dos dados x_valid pela Random Forest\n",
    "\n",
    "p_acuracia = modelo_arvore.predict(x_valid)\n",
    "\n",
    "# Média de igualdade entre o teste e os dados separados pela Random Forest\n",
    "\n",
    "np.mean(y_valid['Survived'] == p_acuracia)"
   ]
  },
  {
   "cell_type": "code",
   "execution_count": 34,
   "id": "fe8512c0",
   "metadata": {},
   "outputs": [
    {
     "data": {
      "text/plain": [
       "0.8161434977578476"
      ]
     },
     "execution_count": 34,
     "metadata": {},
     "output_type": "execute_result"
    }
   ],
   "source": [
    "# Pedindo para máquina predizer Survived dos dados x_valid pelo Logistic Regression\n",
    "\n",
    "p_acuracia = modelo_logistico.predict(x_valid)\n",
    "\n",
    "# Média de igualdade entre o teste e os dados separados pelo Logistic Regression\n",
    "\n",
    "np.mean(y_valid['Survived'] == p_acuracia)"
   ]
  },
  {
   "cell_type": "markdown",
   "id": "64b3202a",
   "metadata": {},
   "source": [
    "### Treinamento de Máquina"
   ]
  },
  {
   "cell_type": "code",
   "execution_count": 35,
   "id": "972633d2",
   "metadata": {},
   "outputs": [
    {
     "name": "stderr",
     "output_type": "stream",
     "text": [
      ""
     ]
    },
    {
     "data": {
      "text/plain": [
       "0.930622009569378"
      ]
     },
     "execution_count": 35,
     "metadata": {},
     "output_type": "execute_result"
    }
   ],
   "source": [
    "# Treinando pelo Logistic Regression\n",
    "\n",
    "modelo_logistico.fit(df_train_x, df_train_y)\n",
    "\n",
    "# Pedindo para máquina predizer Survived dos dados x_valid\n",
    "\n",
    "p_test = modelo_logistico.predict(df_test_x)\n",
    "\n",
    "np.mean(gender_submission['Survived'] == p_test)"
   ]
  },
  {
   "cell_type": "markdown",
   "id": "98327b82",
   "metadata": {},
   "source": [
    "### Exportação de Resultados"
   ]
  },
  {
   "cell_type": "code",
   "execution_count": 36,
   "id": "abb818db",
   "metadata": {},
   "outputs": [],
   "source": [
    "# Desenvolvendo série para csv\n",
    "\n",
    "result = pd.Series(p_test, index=test['PassengerId'], name='Survived')\n",
    "\n",
    "result = result.astype(int)"
   ]
  },
  {
   "cell_type": "code",
   "execution_count": 37,
   "id": "ee39225c",
   "metadata": {},
   "outputs": [],
   "source": [
    "# Exportando para csv\n",
    "\n",
    "result.to_csv('titanic.csv', header=True)"
   ]
  }
 ],
 "metadata": {
  "kernelspec": {
   "display_name": "Python 3 (ipykernel)",
   "language": "python",
   "name": "python3"
  },
  "language_info": {
   "codemirror_mode": {
    "name": "ipython",
    "version": 3
   },
   "file_extension": ".py",
   "mimetype": "text/x-python",
   "name": "python",
   "nbconvert_exporter": "python",
   "pygments_lexer": "ipython3",
   "version": "3.11.4"
  }
 },
 "nbformat": 4,
 "nbformat_minor": 5
}
